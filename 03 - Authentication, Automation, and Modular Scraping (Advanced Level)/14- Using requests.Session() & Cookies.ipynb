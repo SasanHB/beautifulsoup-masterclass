{
 "cells": [
  {
   "cell_type": "markdown",
   "id": "3dece85d",
   "metadata": {},
   "source": [
    "# 🎓 Lesson 14: Using requests.Session() & Cookies\n",
    "\n",
    "🎯 Goal\n",
    "\n",
    "In this lesson, you’ll learn how to:\n",
    "\n",
    "- Use `requests.Session()` to persist data (cookies, headers)\n",
    "\n",
    "- Log into a website using `POST` requests\n",
    "\n",
    "- Access authenticated pages using your session\n",
    "\n",
    "- Handle simple session-based sites with BeautifulSoup\n"
   ]
  },
  {
   "cell_type": "markdown",
   "id": "280cc8a5",
   "metadata": {},
   "source": [
    "## 💻 Practice Site:\n",
    "\n",
    "📍 https://quotes.toscrape.com/login\n",
    "\n",
    "This page is specifically made for scraping practice and allows login with any credentials."
   ]
  },
  {
   "cell_type": "markdown",
   "id": "67e66f33",
   "metadata": {},
   "source": [
    "## ✅ Step-by-Step Example: Simulate a Login and Access a Protected Page"
   ]
  },
  {
   "cell_type": "code",
   "execution_count": null,
   "id": "84afacfd",
   "metadata": {},
   "outputs": [],
   "source": [
    "import requests\n",
    "from bs4 import BeautifulSoup\n",
    "\n",
    "# Create a session object\n",
    "session = requests.Session()\n",
    "\n",
    "# First, get the login page to retrieve the CSRF token\n",
    "login_url = \"https://quotes.toscrape.com/login\"\n",
    "response = session.get(login_url)\n",
    "soup = BeautifulSoup(response.text, \"lxml\")\n",
    "\n",
    "# Extract the hidden CSRF token from the login form\n",
    "csrf_token = soup.find(\"input\", {\"name\": \"csrf_token\"}).get(\"0\")\n",
    "\n",
    "# 📥 Login credentials and token\n",
    "payload = {\n",
    "    \"csrf_token\": csrf_token,\n",
    "    \"username\": \"testuser\",\n",
    "    \"password\": \"testpass\"\n",
    "}\n",
    "\n",
    "# Send a POST request to log in\n",
    "response = session.post(login_url, data=payload)\n",
    "\n",
    "# Now access a protected page with the same session\n",
    "protected_url = \"https://quotes.toscrape.com/\"\n",
    "protected_response = session.get(protected_url)\n",
    "protected_soup = BeautifulSoup(protected_response.text, \"lxml\")\n",
    "\n",
    "# Confirm if login was successful\n",
    "if protected_soup.select_one(\"a[href='/logout']\"):\n",
    "    print(\"✅ Logged in successfully!\")\n",
    "else:\n",
    "    print(\"❌ Login failed.\")\n",
    "\n",
    "# Extract quotes (same as before)\n",
    "quotes = protected_soup.select(\"div.quote\")\n",
    "\n",
    "for quote in quotes:\n",
    "    text = quote.select_one(\"span.text\").text.strip()\n",
    "    author = quote.select_one(\"small.author\").text.strip()\n",
    "    print(f\"📝 {text} — {author}\")\n"
   ]
  },
  {
   "cell_type": "markdown",
   "id": "4a6cd0be",
   "metadata": {},
   "source": [
    "## Explanation\n",
    "\n",
    "| Concept              | Description                                          |\n",
    "| -------------------- | ---------------------------------------------------- |\n",
    "| `requests.Session()` | Keeps cookies and headers between requests           |\n",
    "| CSRF token           | Security measure (must be sent with the login form)  |\n",
    "| POST login           | Simulates the login form submission                  |\n",
    "| Reuse session        | Makes further requests to access \"logged-in\" content |\n"
   ]
  },
  {
   "cell_type": "markdown",
   "id": "6a974d8d",
   "metadata": {},
   "source": [
    "## Why Use Sessions?\n",
    "\n",
    "- 🔐 Stay logged in (cookies are automatically stored and reused)\n",
    "\n",
    "- ⏱ Faster than re-authenticating every time\n",
    "\n",
    "- 📄 Access pages only available to logged-in users (e.g., dashboards)"
   ]
  },
  {
   "cell_type": "markdown",
   "id": "4b0c95cf",
   "metadata": {},
   "source": [
    "## Practice Tasks\n",
    "\n",
    "1. Try logging in with different usernames and passwords (they don’t matter here).\n",
    "\n",
    "2. Print the CSRF token before sending it — understand how sites secure login forms.\n",
    "\n",
    "3. Visit the logout page:\n",
    "\n",
    "```bash\n",
    "session.get(\"https://quotes.toscrape.com/logout\")\n",
    "```"
   ]
  },
  {
   "cell_type": "markdown",
   "id": "45ca3900",
   "metadata": {},
   "source": [
    "## 🔜 Next up: Lesson  15 – Regex in BeautifulSoup\n",
    "\n",
    "Learn how to match flexible patterns in messy HTML using `re.compile()` and regular expressions."
   ]
  }
 ],
 "metadata": {
  "kernelspec": {
   "display_name": "venv",
   "language": "python",
   "name": "python3"
  },
  "language_info": {
   "codemirror_mode": {
    "name": "ipython",
    "version": 3
   },
   "file_extension": ".py",
   "mimetype": "text/x-python",
   "name": "python",
   "nbconvert_exporter": "python",
   "pygments_lexer": "ipython3",
   "version": "3.10.10"
  }
 },
 "nbformat": 4,
 "nbformat_minor": 5
}

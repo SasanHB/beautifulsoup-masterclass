{
 "cells": [
  {
   "cell_type": "markdown",
   "id": "39aa8424",
   "metadata": {},
   "source": [
    "# 🎓 Lesson 17: Bypassing Anti-Bot Mechanisms (Ethically)\n",
    "\n",
    "🎯 Goal\n",
    "\n",
    "In this lesson, you’ll learn how to:\n",
    "\n",
    "- Understand how websites detect bots\n",
    "\n",
    "- Avoid common scraping traps and blocks\n",
    "\n",
    "- Bypass basic anti-bot techniques ethically\n",
    "\n",
    "- Respect sites while staying under the radar"
   ]
  },
  {
   "cell_type": "markdown",
   "id": "838d5861",
   "metadata": {},
   "source": [
    "## How Do Websites Detect Bots?\n",
    "\n",
    "Websites often use the following techniques:\n",
    "\n",
    "| Technique               | What It Does                                         |\n",
    "| ----------------------- | ---------------------------------------------------- |\n",
    "| **Rate-limiting**       | Blocks users making too many requests quickly        |\n",
    "| **Missing headers**     | No `User-Agent`, `Referer`, or browser fingerprint   |\n",
    "| **Repetitive behavior** | Requests every second like a robot                   |\n",
    "| **CAPTCHAs**            | Requires human interaction                           |\n",
    "| **JavaScript checks**   | Detects if JS is disabled (bots usually skip JS)     |\n",
    "| **Honeypots**           | Hidden fields or links — real users never touch them |\n"
   ]
  },
  {
   "cell_type": "markdown",
   "id": "65374940",
   "metadata": {},
   "source": [
    "## ✅ Realistic & Polite Scraping Strategy\n",
    "\n",
    "Here are techniques to avoid detection without violating site rules:"
   ]
  },
  {
   "cell_type": "markdown",
   "id": "4546be35",
   "metadata": {},
   "source": [
    "### 1. Use Realistic Headers"
   ]
  },
  {
   "cell_type": "code",
   "execution_count": null,
   "id": "a8f46183",
   "metadata": {},
   "outputs": [],
   "source": [
    "headers = {\n",
    "    \"User-Agent\": \"Mozilla/5.0 (Windows NT 10.0; Win64; x64) \"\n",
    "                  \"AppleWebKit/537.36 (KHTML, like Gecko) \"\n",
    "                  \"Chrome/113.0.0.0 Safari/537.36\",\n",
    "    \"Accept-Language\": \"en-US,en;q=0.9\",\n",
    "    \"Referer\": \"https://google.com\"\n",
    "}"
   ]
  },
  {
   "cell_type": "markdown",
   "id": "29bf2912",
   "metadata": {},
   "source": [
    "### 2. Add Random Delays Between Requests"
   ]
  },
  {
   "cell_type": "code",
   "execution_count": null,
   "id": "0cc29699",
   "metadata": {},
   "outputs": [],
   "source": [
    "import time, random\n",
    "delay = round(random.uniform(1.5, 4.0), 2)\n",
    "time.sleep(delay)"
   ]
  },
  {
   "cell_type": "markdown",
   "id": "93d3715d",
   "metadata": {},
   "source": [
    "### 3. Rotate User-Agents (Optional)\n",
    "\n",
    "Use a list of real User-Agent strings and randomly select one for each session/request."
   ]
  },
  {
   "cell_type": "markdown",
   "id": "212bb8c1",
   "metadata": {},
   "source": [
    "### 4. Use requests.Session() to Reuse Cookies\n",
    "\n",
    "This mimics real browsing behavior and avoids creating new sessions on every request."
   ]
  },
  {
   "cell_type": "code",
   "execution_count": null,
   "id": "575e372e",
   "metadata": {},
   "outputs": [],
   "source": [
    "import requests\n",
    "session = requests.Session()\n",
    "session.get(\"https://example.com\", headers=headers)"
   ]
  },
  {
   "cell_type": "markdown",
   "id": "86733b78",
   "metadata": {},
   "source": [
    "### 5. Respect `robots.txt`\n",
    "\n",
    "Before scraping, check:\n",
    "\n",
    "```bash\n",
    "https://example.com/robots.txt\n",
    "```\n",
    "\n",
    "Don't scrape pages listed under `Disallow`: especially login, admin, or private areas."
   ]
  },
  {
   "cell_type": "markdown",
   "id": "c73088c5",
   "metadata": {},
   "source": [
    "### 6. Avoid Honeypots\n",
    "\n",
    "If you see hidden input fields in forms (e.g., `style=\"display:none\"`), don’t touch them.\n",
    "Bots that fill in hidden fields often get auto-banned."
   ]
  },
  {
   "cell_type": "markdown",
   "id": "36f09b32",
   "metadata": {},
   "source": [
    "### 7. Simulate Human Interaction (with Selenium)\n",
    "\n",
    "If you're using Selenium:\n",
    "\n",
    "- Add delays between actions\n",
    "\n",
    "- Scroll the page\n",
    "\n",
    "- Click instead of directly navigating with .get()"
   ]
  },
  {
   "cell_type": "markdown",
   "id": "05759d66",
   "metadata": {},
   "source": [
    "Click a Button\n",
    "\n",
    "Let's say you're on a page that loads quotes only when you click \"Load more\"."
   ]
  },
  {
   "cell_type": "code",
   "execution_count": null,
   "id": "e96d0ccc",
   "metadata": {},
   "outputs": [],
   "source": [
    "from selenium import webdriver\n",
    "from selenium.webdriver.common.by import By\n",
    "import time\n",
    "\n",
    "driver = webdriver.Chrome()\n",
    "driver.get(\"https://quotes.toscrape.com/js/\")\n",
    "\n",
    "# Find and click a button (e.g., pagination, load more)\n",
    "button = driver.find_element(By.CSS_SELECTOR, \"a[href='/page/2/']\")\n",
    "button.click()\n",
    "\n",
    "time.sleep(2)  # Wait for the next page to load"
   ]
  },
  {
   "cell_type": "markdown",
   "id": "f5bfffab",
   "metadata": {},
   "source": [
    "Scroll the Page Like a Human"
   ]
  },
  {
   "cell_type": "code",
   "execution_count": null,
   "id": "4fe6e275",
   "metadata": {},
   "outputs": [],
   "source": [
    "# Scroll down by a fixed amount (e.g., 500 pixels)\n",
    "driver.execute_script(\"window.scrollBy(0, 500);\")\n",
    "time.sleep(1.5)\n",
    "\n",
    "# Scroll to bottom of the page\n",
    "driver.execute_script(\"window.scrollTo(0, document.body.scrollHeight);\")\n",
    "time.sleep(2)"
   ]
  },
  {
   "cell_type": "markdown",
   "id": "65a1e171",
   "metadata": {},
   "source": [
    "You can combine scrolling with waiting to trigger lazy-loaded content (like infinite scroll)."
   ]
  },
  {
   "cell_type": "markdown",
   "id": "92008fc2",
   "metadata": {},
   "source": [
    "Type in an Input Field (Slowly Like a Human)"
   ]
  },
  {
   "cell_type": "code",
   "execution_count": null,
   "id": "abfca304",
   "metadata": {},
   "outputs": [],
   "source": [
    "from selenium.webdriver.common.keys import Keys\n",
    "import random\n",
    "\n",
    "input_box = driver.find_element(By.NAME, \"username\")\n",
    "\n",
    "# Simulate typing each letter with a random delay\n",
    "for char in \"sasan\":\n",
    "    input_box.send_keys(char)\n",
    "    time.sleep(random.uniform(0.1, 0.3))  # Random typing speed\n",
    "\n",
    "# Hit ENTER\n",
    "input_box.send_keys(Keys.RETURN)"
   ]
  },
  {
   "cell_type": "markdown",
   "id": "c35acfa1",
   "metadata": {},
   "source": [
    "Hover Over an Element (Optional)"
   ]
  },
  {
   "cell_type": "code",
   "execution_count": null,
   "id": "6e5a8982",
   "metadata": {},
   "outputs": [],
   "source": [
    "from selenium.webdriver.common.action_chains import ActionChains\n",
    "\n",
    "element = driver.find_element(By.CLASS_NAME, \"quote\")\n",
    "ActionChains(driver).move_to_element(element).perform()\n",
    "\n",
    "time.sleep(1)"
   ]
  },
  {
   "cell_type": "markdown",
   "id": "4cdad526",
   "metadata": {},
   "source": [
    "Summary of Techniques\n",
    "\n",
    "| Action     | Code Example                                    |\n",
    "| ---------- | ----------------------------------------------- |\n",
    "| **Click**  | `element.click()`                               |\n",
    "| **Scroll** | `driver.execute_script(\"window.scrollTo(...)\")` |\n",
    "| **Type**   | `send_keys()` with delay                        |\n",
    "| **Hover**  | `ActionChains(...).move_to_element()`           |\n"
   ]
  },
  {
   "cell_type": "markdown",
   "id": "f6442bfc",
   "metadata": {},
   "source": [
    "## ❌ What NOT to Do\n",
    "\n",
    "- ❌ Do NOT scrape private content behind logins without permission\n",
    "\n",
    "- ❌ Do NOT flood servers with dozens of requests per second\n",
    "\n",
    "- ❌ Do NOT use scraping for malicious, illegal, or unauthorized commercial use\n",
    "\n",
    "- ❌ Do NOT try to bypass advanced protections like Cloudflare without permission"
   ]
  },
  {
   "cell_type": "markdown",
   "id": "33d38a8b",
   "metadata": {},
   "source": [
    "## ✅ Bonus Tip: Use Your Name in Headers\n",
    "\n",
    "For research or personal scraping projects, you can add a custom header:"
   ]
  },
  {
   "cell_type": "code",
   "execution_count": null,
   "id": "3ea8b860",
   "metadata": {},
   "outputs": [],
   "source": [
    "headers[\"From\"] = \"sasan@example.com\""
   ]
  },
  {
   "cell_type": "markdown",
   "id": "6fe73208",
   "metadata": {},
   "source": [
    "It shows transparency and good intent"
   ]
  },
  {
   "cell_type": "markdown",
   "id": "53b80f32",
   "metadata": {},
   "source": [
    "## Practice Tasks\n",
    "\n",
    "1. Update your scraper to include headers and random delays\n",
    "\n",
    "2. Use requests.Session() to reuse cookies and headers\n",
    "\n",
    "3. Use time.sleep(random.uniform(...)) and add a delay between each request\n",
    "\n",
    "4. Always test your scraper slowly and watch network traffic"
   ]
  },
  {
   "cell_type": "markdown",
   "id": "d6066910",
   "metadata": {},
   "source": [
    "## 🔜 Next up: Lesson  18 – Modular & Reusable Scraping Functions\n",
    "\n",
    "You’ll learn how to turn your scraping code into clean, testable, and reusable Python functions."
   ]
  }
 ],
 "metadata": {
  "language_info": {
   "name": "python"
  }
 },
 "nbformat": 4,
 "nbformat_minor": 5
}

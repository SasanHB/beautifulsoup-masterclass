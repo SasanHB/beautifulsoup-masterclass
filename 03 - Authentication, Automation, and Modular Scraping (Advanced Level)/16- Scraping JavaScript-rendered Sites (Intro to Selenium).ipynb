{
 "cells": [
  {
   "cell_type": "markdown",
   "id": "3dece85d",
   "metadata": {},
   "source": [
    "# 🎓 Lesson 16: Scraping JavaScript-rendered Sites (Intro to Selenium)\n",
    "\n",
    "🎯 Goal\n",
    "\n",
    "In this lesson, you’ll learn how to:\n",
    "\n",
    "- Understand why some content doesn’t appear with `requests + BeautifulSoup`\n",
    "\n",
    "- Use Selenium to load and scrape JavaScript-rendered pages\n",
    "\n",
    "- Simulate browser actions like click, wait, and scroll\n"
   ]
  },
  {
   "cell_type": "markdown",
   "id": "141dd6d4",
   "metadata": {},
   "source": [
    "## Problem Recap\n",
    "\n",
    "Some websites (like many modern e-commerce or SPA apps) load content via JavaScript.\n",
    "This means:\n",
    "\n",
    "- `requests.get()` → ❌ Can’t see the data\n",
    "\n",
    "- `Selenium` → ✅ Runs a full browser that executes JavaScript"
   ]
  },
  {
   "cell_type": "markdown",
   "id": "b7f96e7e",
   "metadata": {},
   "source": [
    "## 💡 What Is Selenium WebDriver?\n",
    "\n",
    "Selenium WebDriver is a tool that automates web browsers.\n",
    "It lets your Python code control a browser like opening pages, clicking buttons, filling forms, and reading the page content.\n",
    "\n",
    "Think of it as:\n",
    "\n",
    "Your Python code + A real browser = Smart automation"
   ]
  },
  {
   "cell_type": "markdown",
   "id": "31804af8",
   "metadata": {},
   "source": [
    "## 💡 What Is ChromeDriver?\n",
    "\n",
    "ChromeDriver is a bridge between:\n",
    "\n",
    "- Your Python code (using Selenium)\n",
    "\n",
    "- The real Chrome browser\n",
    "\n",
    "It knows how to talk to Chrome in its own “language” (called the WebDriver protocol).\n",
    "Without `ChromeDriver`, Selenium **can’t control Chrome**."
   ]
  },
  {
   "cell_type": "markdown",
   "id": "fe9c69ea",
   "metadata": {},
   "source": [
    "## So What’s the Relationship?\n",
    "| Term             | Meaning                                                |\n",
    "| ---------------- | ------------------------------------------------------ |\n",
    "| **Selenium**     | The library you use in Python (`pip install selenium`) |\n",
    "| **WebDriver**    | A generic API, Selenium uses it to talk to browsers   |\n",
    "| **ChromeDriver** | A specific driver for **Google Chrome**                |\n",
    "| **GeckoDriver**  | For **Firefox**                                        |\n",
    "| **EdgeDriver**   | For **Microsoft Edge**                                 |\n",
    "\n"
   ]
  },
  {
   "cell_type": "markdown",
   "id": "03ec6e85",
   "metadata": {},
   "source": [
    "## ✅ Setup: Install Selenium + ChromeDriver"
   ]
  },
  {
   "cell_type": "code",
   "execution_count": null,
   "id": "ad6946d7",
   "metadata": {
    "vscode": {
     "languageId": "bat"
    }
   },
   "outputs": [],
   "source": [
    "pip install selenium"
   ]
  },
  {
   "cell_type": "markdown",
   "id": "bf832932",
   "metadata": {},
   "source": [
    "Download ChromeDriver that matches your Chrome version\n",
    "\n",
    "(Place it in your project folder or add to PATH)"
   ]
  },
  {
   "cell_type": "markdown",
   "id": "9f8d4673",
   "metadata": {},
   "source": [
    "### 1. Check your Chrome version\n",
    "\n",
    "Open Chrome and go to:\n",
    "```bash\n",
    "chrome://settings/help\n",
    "```\n",
    "You’ll see something like:\n",
    "\n",
    "```bash\n",
    "Version 113.0.5672.126\n",
    "```"
   ]
  },
  {
   "cell_type": "markdown",
   "id": "01773f52",
   "metadata": {},
   "source": [
    "### 2. Download ChromeDriver\n",
    "\n",
    "Visit the official site:\n",
    "\n",
    "👉 https://sites.google.com/chromium.org/driver/\n",
    "\n",
    "\n",
    "- Choose the version **matching your Chrome**\n",
    "\n",
    "- Download the `.zip` for your platform (Windows/Linux/macOS)\n",
    "\n",
    "- Extract the file `chromedriver.exe`"
   ]
  },
  {
   "cell_type": "markdown",
   "id": "eacb0076",
   "metadata": {},
   "source": [
    "### 3. Put `chromedriver` in a known location\n",
    "\n",
    "You have 2 options:\n",
    "\n",
    "| Option                | How                                                              |\n",
    "| --------------------- | ---------------------------------------------------------------- |\n",
    "| Add to system PATH | Place it in `C:\\Windows\\System32` or add its folder to your PATH |\n",
    "| Local path usage   | Place `chromedriver.exe` in your project folder and use:         |\n",
    "\n",
    "```python\n",
    "webdriver.Chrome(executable_path=\"./chromedriver\")\n",
    "```\n",
    "\n",
    "⚠️ Newer versions (Selenium 4.x) don’t require executable_path if it's in PATH."
   ]
  },
  {
   "cell_type": "markdown",
   "id": "b348e5af",
   "metadata": {},
   "source": [
    "### Alternative (Easier): Use webdriver-manager (Optional)"
   ]
  },
  {
   "cell_type": "code",
   "execution_count": null,
   "id": "5b707440",
   "metadata": {
    "vscode": {
     "languageId": "bat"
    }
   },
   "outputs": [],
   "source": [
    "pip install webdriver-manager"
   ]
  },
  {
   "cell_type": "markdown",
   "id": "1e9c80fe",
   "metadata": {},
   "source": [
    "And then:"
   ]
  },
  {
   "cell_type": "code",
   "execution_count": null,
   "id": "f3e20452",
   "metadata": {},
   "outputs": [],
   "source": [
    "from selenium import webdriver\n",
    "from webdriver_manager.chrome import ChromeDriverManager\n",
    "\n",
    "driver = webdriver.Chrome(ChromeDriverManager().install())"
   ]
  },
  {
   "cell_type": "markdown",
   "id": "b92ce5a9",
   "metadata": {},
   "source": [
    "⚠️ Slower startup but no manual downloading ever needed."
   ]
  },
  {
   "cell_type": "markdown",
   "id": "280cc8a5",
   "metadata": {},
   "source": [
    "## 💻 Practice Site:\n",
    "\n",
    "📍 https://quotes.toscrape.com/js/\n",
    "\n",
    "This page won’t show quotes using requests but Selenium can see them!"
   ]
  },
  {
   "cell_type": "markdown",
   "id": "67e66f33",
   "metadata": {},
   "source": [
    "## ✅ Step-by-Step Example"
   ]
  },
  {
   "cell_type": "code",
   "execution_count": null,
   "id": "84afacfd",
   "metadata": {},
   "outputs": [],
   "source": [
    "from selenium import webdriver\n",
    "from bs4 import BeautifulSoup\n",
    "import time\n",
    "\n",
    "# Set up Selenium with Chrome\n",
    "driver = webdriver.Chrome()  # or use ChromeDriverManager if installed\n",
    "\n",
    "# Open the JavaScript-rendered version of the site\n",
    "driver.get(\"https://quotes.toscrape.com/js/\")\n",
    "\n",
    "# Wait for the page to fully load\n",
    "time.sleep(3)  # Give JavaScript time to render content\n",
    "\n",
    "# Get the page source and parse it with BeautifulSoup\n",
    "soup = BeautifulSoup(driver.page_source, \"lxml\")\n",
    "\n",
    "# Find and print all quotes\n",
    "quotes = soup.select(\"div.quote\")\n",
    "for quote in quotes:\n",
    "    text = quote.select_one(\"span.text\").text.strip()\n",
    "    author = quote.select_one(\"small.author\").text.strip()\n",
    "    print(f\"📝 {text} — {author}\")\n",
    "\n",
    "# Don't forget to close the browser\n",
    "driver.quit()"
   ]
  },
  {
   "cell_type": "markdown",
   "id": "4a6cd0be",
   "metadata": {},
   "source": [
    "## Explanation\n",
    "\n",
    "| Step                 | What It Does                         |\n",
    "| -------------------- | ------------------------------------ |\n",
    "| `webdriver.Chrome()` | Launches a real Chrome browser       |\n",
    "| `driver.get()`       | Opens the page like a human would    |\n",
    "| `time.sleep(3)`      | Waits for JavaScript to load content |\n",
    "| `driver.page_source` | Gets the fully rendered HTML         |\n",
    "| `BeautifulSoup(...)` | Parses the HTML just like before     |\n",
    "\n"
   ]
  },
  {
   "cell_type": "markdown",
   "id": "502f7ec8",
   "metadata": {},
   "source": [
    "## ✅ Bonus: Headless Mode (No Browser Window)"
   ]
  },
  {
   "cell_type": "code",
   "execution_count": null,
   "id": "f8335eef",
   "metadata": {},
   "outputs": [],
   "source": [
    "from selenium.webdriver.chrome.options import Options\n",
    "\n",
    "options = Options()\n",
    "options.headless = True  # Don’t show browser window\n",
    "driver = webdriver.Chrome(options=options)"
   ]
  },
  {
   "cell_type": "markdown",
   "id": "4b0c95cf",
   "metadata": {},
   "source": [
    "## Practice Tasks\n",
    "\n",
    "1. Try scraping from `https://quotes.toscrape.com/js/` without `sleep()` see what happens.\n",
    "\n",
    "2. Add scrolling or clicking in future lessons.\n",
    "\n",
    "3. Use `headless=True` for silent scraping."
   ]
  },
  {
   "cell_type": "markdown",
   "id": "0cee070e",
   "metadata": {},
   "source": [
    "## 💡 Tip: Only use Selenium when necessary. It’s slower and heavier than requests best used for:\n",
    "\n",
    "- JavaScript-only sites\n",
    "\n",
    "- Simulated logins, scrolling, button clicking\n",
    "\n",
    "- Pages that need waiting or user-like interaction"
   ]
  },
  {
   "cell_type": "markdown",
   "id": "45ca3900",
   "metadata": {},
   "source": [
    "## 🔜 Next up: Lesson  17 – Bypassing Anti-Bot Mechanisms\n",
    "\n",
    "Learn how sites detect scrapers, and how to avoid traps, blocks, and honeypots (ethically)."
   ]
  }
 ],
 "metadata": {
  "kernelspec": {
   "display_name": "venv",
   "language": "python",
   "name": "python3"
  },
  "language_info": {
   "codemirror_mode": {
    "name": "ipython",
    "version": 3
   },
   "file_extension": ".py",
   "mimetype": "text/x-python",
   "name": "python",
   "nbconvert_exporter": "python",
   "pygments_lexer": "ipython3",
   "version": "3.10.10"
  }
 },
 "nbformat": 4,
 "nbformat_minor": 5
}

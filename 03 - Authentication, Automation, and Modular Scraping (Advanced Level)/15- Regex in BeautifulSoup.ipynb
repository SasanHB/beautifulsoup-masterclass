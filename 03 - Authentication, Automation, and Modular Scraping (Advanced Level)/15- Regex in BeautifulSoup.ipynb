{
 "cells": [
  {
   "cell_type": "markdown",
   "id": "3dece85d",
   "metadata": {},
   "source": [
    "# 🎓 Lesson 15: Regex in BeautifulSoup\n",
    "\n",
    "🎯 Goal\n",
    "\n",
    "In this lesson, you’ll learn how to:\n",
    "\n",
    "- Use re.compile() to match flexible text and attribute patterns\n",
    "\n",
    "- Search for elements with partially known or variable content\n",
    "\n",
    "- Combine BeautifulSoup + Regex for more powerful scraping\n"
   ]
  },
  {
   "cell_type": "markdown",
   "id": "280cc8a5",
   "metadata": {},
   "source": [
    "## 💻 Practice Site:\n",
    "\n",
    "📍 https://quotes.toscrape.com/\n",
    "\n",
    "Perfect for testing flexible text patterns like matching authors or quote content."
   ]
  },
  {
   "cell_type": "markdown",
   "id": "67e66f33",
   "metadata": {},
   "source": [
    "## ✅ Step 1: Basic Regex Matching with string=re.compile(...)"
   ]
  },
  {
   "cell_type": "code",
   "execution_count": null,
   "id": "84afacfd",
   "metadata": {},
   "outputs": [],
   "source": [
    "import requests\n",
    "from bs4 import BeautifulSoup\n",
    "import re\n",
    "\n",
    "# Load the page\n",
    "url = \"https://quotes.toscrape.com/\"\n",
    "response = requests.get(url)\n",
    "soup = BeautifulSoup(response.text, \"lxml\")\n",
    "\n",
    "# Find all quotes containing the word \"life\"\n",
    "pattern = re.compile(\"life\", re.IGNORECASE)\n",
    "\n",
    "quotes = soup.find_all(\"span\", class_=\"text\", string=pattern)\n",
    "\n",
    "for quote in quotes:\n",
    "    print(\"Matched Quote:\", quote.text.strip())"
   ]
  },
  {
   "cell_type": "markdown",
   "id": "4a6cd0be",
   "metadata": {},
   "source": [
    "## Explanation\n",
    "\n",
    "| Concept              | Description                                 |\n",
    "| -------------------- | ------------------------------------------- |\n",
    "| `re.compile(\"life\")` | Create a regex pattern to search for \"life\" |\n",
    "| `re.IGNORECASE`      | Makes the search case-insensitive           |\n",
    "| `string=pattern`     | Matches the visible text using regex        |\n"
   ]
  },
  {
   "cell_type": "markdown",
   "id": "502f7ec8",
   "metadata": {},
   "source": [
    "## ✅ Step 2: Match Elements with Part of a Class or Attribute\n",
    "\n",
    "Let’s say you want to match tags with any class name that includes \"author\"."
   ]
  },
  {
   "cell_type": "code",
   "execution_count": null,
   "id": "f8335eef",
   "metadata": {},
   "outputs": [],
   "source": [
    "# Match <small> tags where class contains \"author\"\n",
    "author_tags = soup.find_all(\"small\", class_=re.compile(\"author\"))\n",
    "\n",
    "for tag in author_tags:\n",
    "    print(\"Author:\", tag.text.strip())"
   ]
  },
  {
   "cell_type": "markdown",
   "id": "8ff6f515",
   "metadata": {},
   "source": [
    "You can do the same for IDs, href, src, or other attributes:"
   ]
  },
  {
   "cell_type": "code",
   "execution_count": null,
   "id": "61f54931",
   "metadata": {},
   "outputs": [],
   "source": [
    "# Find all <a> tags where href ends in \"/login\"\n",
    "login_links = soup.find_all(\"a\", href=re.compile(\"/login$\"))\n",
    "\n",
    "for link in login_links:\n",
    "    print(\"Login link found:\", link.get(\"href\"))"
   ]
  },
  {
   "cell_type": "markdown",
   "id": "b89bfff4",
   "metadata": {},
   "source": [
    "## ✅ Step 3: Match Complex Quote Texts (Multiple Words)"
   ]
  },
  {
   "cell_type": "code",
   "execution_count": null,
   "id": "a3896ffb",
   "metadata": {},
   "outputs": [],
   "source": [
    "# Match quotes that contain both \"truth\" or \"reality\"\n",
    "keywords = re.compile(\"truth|reality\", re.IGNORECASE)\n",
    "\n",
    "matches = soup.find_all(\"span\", class_=\"text\", string=keywords)\n",
    "\n",
    "for quote in matches:\n",
    "    print(\"Match:\", quote.text.strip())"
   ]
  },
  {
   "cell_type": "markdown",
   "id": "7a0f2612",
   "metadata": {},
   "source": [
    "## 🔧 Common Regex Patterns\n",
    "\n",
    "| Pattern | Meaning                  | Example                 |        |         |\n",
    "| ------- | ------------------------ | ----------------------- | ------ | ------- |\n",
    "| `^text` | Starts with `text`       | `^Albert`               |        |         |\n",
    "| `text$` | Ends with `text`         | `Einstein$`             |        |         |\n",
    "| `.*`    | Any number of characters | `.*quote.*`             |        |         |\n",
    "| \\`a     | b\\`                      | Match either `a` or `b` | \\`life | truth\\` |\n",
    "| `[A-Z]` | Any uppercase letter     | `[A-Z][a-z]+`           |        |         |"
   ]
  },
  {
   "cell_type": "markdown",
   "id": "6a974d8d",
   "metadata": {},
   "source": [
    "Regex allows you to write dynamic scrapers that don’t rely on exact text."
   ]
  },
  {
   "cell_type": "markdown",
   "id": "4b0c95cf",
   "metadata": {},
   "source": [
    "## Practice Tasks\n",
    "\n",
    "1. Find quotes where the author’s name starts with “A”.\n",
    "\n",
    "2. Find quote texts that contain punctuation like “!” or “?”.\n",
    "\n",
    "3. Match `<a>` tags where `href` contains the word `\"tag\"`."
   ]
  },
  {
   "cell_type": "markdown",
   "id": "45ca3900",
   "metadata": {},
   "source": [
    "## 🔜 Next up: Lesson  16 – Scraping JavaScript-rendered Sites (Intro to Selenium)\n",
    "\n",
    "Learn how to handle websites that generate content using JavaScript, which `requests` can’t see."
   ]
  }
 ],
 "metadata": {
  "kernelspec": {
   "display_name": "venv",
   "language": "python",
   "name": "python3"
  },
  "language_info": {
   "codemirror_mode": {
    "name": "ipython",
    "version": 3
   },
   "file_extension": ".py",
   "mimetype": "text/x-python",
   "name": "python",
   "nbconvert_exporter": "python",
   "pygments_lexer": "ipython3",
   "version": "3.10.10"
  }
 },
 "nbformat": 4,
 "nbformat_minor": 5
}

{
 "cells": [
  {
   "cell_type": "markdown",
   "id": "701d25a0",
   "metadata": {},
   "source": [
    "# 🎓 Lesson 2: Setting Up Your Environment\n",
    "🎯 Goal\n",
    "- In this lesson, you'll learn how to:\n",
    "- Create a virtual environment 💻\n",
    "- Install Beautiful Soup and required libraries 📦\n",
    "- Launch and use Jupyter Notebooks 📓"
   ]
  },
  {
   "cell_type": "markdown",
   "id": "97a8243f",
   "metadata": {},
   "source": [
    "# 🧰 Required Tools\n",
    "We’ll be using the following Python libraries:\n",
    "| Library          | Purpose                            |\n",
    "| ---------------- | ---------------------------------- |\n",
    "| `beautifulsoup4` | HTML parsing and scraping 🍜       |\n",
    "| `requests`       | Fetching web pages 🌐              |\n",
    "| `lxml`           | Fast HTML parser ⚡                 |\n",
    "| `notebook`       | Interactive notebooks (Jupyter) 📗 |\n"
   ]
  },
  {
   "cell_type": "markdown",
   "id": "8cc6d286",
   "metadata": {},
   "source": [
    "## Step 1: Create a Virtual Environment\n",
    "Virtual environments help you manage dependencies without affecting system-wide Python."
   ]
  },
  {
   "cell_type": "markdown",
   "id": "04d30c52",
   "metadata": {},
   "source": [
    "✅ On Windows:"
   ]
  },
  {
   "cell_type": "markdown",
   "id": "76abf6b9",
   "metadata": {
    "vscode": {
     "languageId": "powershell"
    }
   },
   "source": [
    "```bash\n",
    "python -m venv venv\n",
    "venv\\Scripts\\activate\n",
    "```"
   ]
  },
  {
   "cell_type": "markdown",
   "id": "686b39f5",
   "metadata": {},
   "source": [
    "✅ On macOS/Linux:"
   ]
  },
  {
   "cell_type": "markdown",
   "id": "9c58fa40",
   "metadata": {
    "vscode": {
     "languageId": "powershell"
    }
   },
   "source": [
    "```bash\n",
    "python3 -m venv venv\n",
    "source venv/bin/activate\n",
    "```"
   ]
  },
  {
   "cell_type": "markdown",
   "id": "f079d532",
   "metadata": {},
   "source": [
    "You’ll now see something like this:"
   ]
  },
  {
   "cell_type": "markdown",
   "id": "89c06e48",
   "metadata": {
    "vscode": {
     "languageId": "powershell"
    }
   },
   "source": [
    "```bash\n",
    "(venv) C:\\your_project_folder>\n",
    "```"
   ]
  },
  {
   "cell_type": "markdown",
   "id": "b6e1a818",
   "metadata": {},
   "source": [
    "## Step 2: Install Required Packages\n",
    "Once your virtual environment is activated, install the necessary libraries:"
   ]
  },
  {
   "cell_type": "markdown",
   "id": "cfcbd707",
   "metadata": {
    "vscode": {
     "languageId": "powershell"
    }
   },
   "source": [
    "```bash\n",
    "pip install beautifulsoup4 requests lxml notebook\n",
    "```"
   ]
  },
  {
   "cell_type": "markdown",
   "id": "02a84445",
   "metadata": {},
   "source": [
    "Alternatively, you can use a requirements.txt file like this:"
   ]
  },
  {
   "cell_type": "markdown",
   "id": "e5bcdb18",
   "metadata": {},
   "source": [
    "```txt\n",
    "beautifulsoup4\n",
    "requests\n",
    "lxml\n",
    "notebook\n",
    "```"
   ]
  },
  {
   "cell_type": "markdown",
   "id": "43e5457a",
   "metadata": {},
   "source": [
    "Then install with:"
   ]
  },
  {
   "cell_type": "markdown",
   "id": "b820a2c2",
   "metadata": {
    "vscode": {
     "languageId": "powershell"
    }
   },
   "source": [
    "```bash\n",
    "pip install -r requirements.txt\n",
    "```"
   ]
  },
  {
   "cell_type": "markdown",
   "id": "8b320638",
   "metadata": {},
   "source": [
    "## Step 3: Launch Jupyter Notebook\n",
    "Once everything is installed, open the notebook interface:"
   ]
  },
  {
   "cell_type": "markdown",
   "id": "1d972124",
   "metadata": {
    "vscode": {
     "languageId": "powershell"
    }
   },
   "source": [
    "```bash\n",
    "jupyter notebook\n",
    "```"
   ]
  },
  {
   "cell_type": "markdown",
   "id": "6d6c75fc",
   "metadata": {},
   "source": [
    "It will open a browser window where you can:\n",
    "- Create .ipynb files\n",
    "- Run Python code\n",
    "- Document your scraping journey!"
   ]
  },
  {
   "cell_type": "markdown",
   "id": "48c8d6e3",
   "metadata": {},
   "source": [
    "✅ Let’s Check Our Installation\n",
    "Create a new notebook and try the code below:"
   ]
  },
  {
   "cell_type": "code",
   "execution_count": null,
   "id": "7e1b211c",
   "metadata": {},
   "outputs": [],
   "source": [
    "# 🥣 Importing BeautifulSoup and Requests\n",
    "from bs4 import BeautifulSoup\n",
    "import requests\n",
    "\n",
    "# 🌐 Fetching a test web page\n",
    "url = \"https://scrapethissite.com\"\n",
    "response = requests.get(url)\n",
    "\n",
    "# 🍜 Parsing the HTML\n",
    "soup = BeautifulSoup(response.text, \"lxml\")\n",
    "\n",
    "# 🧾 Printing the title tag\n",
    "print(soup.title)\n"
   ]
  },
  {
   "cell_type": "markdown",
   "id": "ef9566eb",
   "metadata": {},
   "source": [
    "🗒️ Output Should Be:\n",
    "```html\n",
    "<title>Scrape This Site | A public sandbox for learning web scraping</title>\n",
    "```"
   ]
  },
  {
   "cell_type": "markdown",
   "id": "53728047",
   "metadata": {},
   "source": [
    "## Practice Tasks\n",
    "1. Set up a virtual environment and install required libraries\n",
    "\n",
    "2. Open Jupyter and create a new `.ipynb`\n",
    "\n",
    "3. Try the sample code and explore the soup object"
   ]
  },
  {
   "cell_type": "markdown",
   "id": "2445e969",
   "metadata": {},
   "source": [
    "## 🔜 Next up: Lesson 3 – Creating a BeautifulSoup Object"
   ]
  }
 ],
 "metadata": {
  "kernelspec": {
   "display_name": "venv",
   "language": "python",
   "name": "python3"
  },
  "language_info": {
   "codemirror_mode": {
    "name": "ipython",
    "version": 3
   },
   "file_extension": ".py",
   "mimetype": "text/x-python",
   "name": "python",
   "nbconvert_exporter": "python",
   "pygments_lexer": "ipython3",
   "version": "3.10.10"
  }
 },
 "nbformat": 4,
 "nbformat_minor": 5
}

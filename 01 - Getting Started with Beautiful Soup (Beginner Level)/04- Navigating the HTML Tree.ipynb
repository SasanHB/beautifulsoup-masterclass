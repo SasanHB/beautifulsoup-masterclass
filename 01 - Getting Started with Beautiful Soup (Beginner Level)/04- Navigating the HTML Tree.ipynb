{
 "cells": [
  {
   "cell_type": "markdown",
   "id": "52caa197",
   "metadata": {},
   "source": [
    "# 🎓 Lesson 4: Navigating the HTML Tree\n",
    "🎯 Goal\n",
    "\n",
    "In this lesson, you’ll learn how to:\n",
    "\n",
    "- Use `.find()` and `.find_all()` to extract elements\n",
    "- Loop through multiple elements\n",
    "- Access attributes and nested content\n",
    "- Use `.parent`, `.children`, `.next_sibling`, and `.previous_sibling` to navigate the tree"
   ]
  },
  {
   "cell_type": "markdown",
   "id": "327a9167",
   "metadata": {},
   "source": [
    "## 💻 Let’s Work with:\n",
    "📍\n",
    " https://scrapethissite.com/pages/simple/\n",
    "\n",
    "It’s perfect for practicing tree navigation because it has multiple countries listed in simple HTML blocks."
   ]
  },
  {
   "cell_type": "markdown",
   "id": "eb6d107a",
   "metadata": {},
   "source": [
    "✅ Example: Extract All Country Names"
   ]
  },
  {
   "cell_type": "code",
   "execution_count": null,
   "id": "48fafc00",
   "metadata": {},
   "outputs": [],
   "source": [
    "import requests\n",
    "from bs4 import BeautifulSoup\n",
    "\n",
    "# 🌐 Load the page\n",
    "url = \"https://scrapethissite.com/pages/simple/\"\n",
    "response = requests.get(url)\n",
    "\n",
    "# 🥣 Parse the HTML\n",
    "soup = BeautifulSoup(response.text, \"lxml\")\n",
    "\n",
    "# 🔍 Find all country name headers\n",
    "country_names = soup.find_all(\"h3\", class_=\"country-name\")\n",
    "\n",
    "# 🖨️ Print each country name (cleaned up)\n",
    "for country in country_names:\n",
    "    print(country.text.strip())"
   ]
  },
  {
   "cell_type": "markdown",
   "id": "68458691",
   "metadata": {},
   "source": [
    "## 🔎 Accessing Other Elements (Paragraphs, Attributes)"
   ]
  },
  {
   "cell_type": "code",
   "execution_count": null,
   "id": "65fa5dac",
   "metadata": {},
   "outputs": [],
   "source": [
    "# Find all country info blocks\n",
    "country_blocks = soup.find_all(\"div\", class_=\"col-md-4 country\")\n",
    "\n",
    "# Loop through each block\n",
    "for block in country_blocks:\n",
    "    name = block.find(\"h3\", class_=\"country-name\").text.strip()\n",
    "    capital = block.find(\"span\", class_=\"country-capital\").text.strip()\n",
    "    population = block.find(\"span\", class_=\"country-population\").text.strip()\n",
    "    area = block.find(\"span\", class_=\"country-area\").text.strip()\n",
    "    \n",
    "    print(f\"🌍 {name} — Capital: {capital}, Population: {population}, Area: {area} km²\")"
   ]
  },
  {
   "cell_type": "markdown",
   "id": "f0fddcd8",
   "metadata": {},
   "source": [
    "## 🌳 Tree Navigation Tips\n",
    "\n",
    "| Method              | What it does                            |\n",
    "| ------------------- | --------------------------------------- |\n",
    "| `.parent`           | Moves up one level                      |\n",
    "| `.children`         | Gets all direct child elements          |\n",
    "| `.descendants`      | Gets all nested tags                    |\n",
    "| `.next_sibling`     | Gets the next element on the same level |\n",
    "| `.previous_sibling` | Gets the previous element on same level |\n"
   ]
  },
  {
   "cell_type": "code",
   "execution_count": null,
   "id": "4a1d7f91",
   "metadata": {},
   "outputs": [],
   "source": [
    "# Example: navigate from h3 to parent\n",
    "header = soup.find(\"h3\", class_=\"country-name\")\n",
    "print(header.text.strip())\n",
    "print(\"Parent tag name:\", header.parent.name)"
   ]
  },
  {
   "cell_type": "markdown",
   "id": "1d8dd45a",
   "metadata": {},
   "source": [
    "## Practice Tasks\n",
    "\n",
    "1. Use `.find_all()` to get all &lt;span&gt; tags with the class country-capital.\n",
    "\n",
    "2. Navigate from an &lt;h3&gt; tag to its `.parent` and then print its `.prettify()`.\n",
    "\n",
    "3. Try using `.next_sibling` and `.previous_sibling` on a paragraph tag what do you get?"
   ]
  },
  {
   "cell_type": "markdown",
   "id": "2bcb578d",
   "metadata": {},
   "source": [
    "## 🔜 Next up: Lesson 5 – CSS Selectors with `.select()`\n",
    "\n",
    "Learn how to use `soup.select()` with CSS syntax just like jQuery or browser DevTools!"
   ]
  }
 ],
 "metadata": {
  "kernelspec": {
   "display_name": "venv",
   "language": "python",
   "name": "python3"
  },
  "language_info": {
   "codemirror_mode": {
    "name": "ipython",
    "version": 3
   },
   "file_extension": ".py",
   "mimetype": "text/x-python",
   "name": "python",
   "nbconvert_exporter": "python",
   "pygments_lexer": "ipython3",
   "version": "3.10.10"
  }
 },
 "nbformat": 4,
 "nbformat_minor": 5
}

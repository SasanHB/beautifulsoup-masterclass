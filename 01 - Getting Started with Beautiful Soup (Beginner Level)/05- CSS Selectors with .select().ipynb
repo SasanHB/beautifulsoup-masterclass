{
 "cells": [
  {
   "cell_type": "markdown",
   "id": "dca6dbb5",
   "metadata": {},
   "source": [
    "# 🎓 Lesson 5: CSS Selectors with .select()\n",
    "\n",
    "🎯 Goal\n",
    "\n",
    "In this lesson, you’ll learn how to:\n",
    "- Use `.select()` and `.select_one()` for powerful CSS-based searches\n",
    "- Select elements by tag, class, ID, attributes, and nesting\n",
    "- Combine selectors just like in CSS (e.g. div > p.name)"
   ]
  },
  {
   "cell_type": "markdown",
   "id": "8bab38f9",
   "metadata": {},
   "source": [
    "##  Why Use CSS Selectors?\n",
    "\n",
    "CSS selectors give you fine-grained control when selecting elements.\n",
    "\n",
    "They’re familiar, powerful, and often cleaner than chaining `.find()`."
   ]
  },
  {
   "cell_type": "markdown",
   "id": "827e89bd",
   "metadata": {},
   "source": [
    "## 💻 Real Site:\n",
    "\n",
    "📍 https://scrapethissite.com/pages/simple/\n",
    "\n",
    "Let’s use this page to extract data using `.select()`."
   ]
  },
  {
   "cell_type": "markdown",
   "id": "79b5d942",
   "metadata": {},
   "source": [
    "## ✅ Example 1: Select by Tag Name"
   ]
  },
  {
   "cell_type": "code",
   "execution_count": null,
   "id": "d48f8d88",
   "metadata": {},
   "outputs": [],
   "source": [
    "from bs4 import BeautifulSoup\n",
    "import requests\n",
    "\n",
    "url = \"https://scrapethissite.com/pages/simple/\"\n",
    "response = requests.get(url)\n",
    "soup = BeautifulSoup(response.text, \"lxml\")\n",
    "\n",
    "# Select all <h3> tags\n",
    "headers = soup.select(\"h3\")\n",
    "for h in headers:\n",
    "    print(\"🌍\", h.text.strip())"
   ]
  },
  {
   "cell_type": "markdown",
   "id": "22fb70a1",
   "metadata": {},
   "source": [
    "## ✅ Example 2: Select by Class"
   ]
  },
  {
   "cell_type": "code",
   "execution_count": null,
   "id": "828c99db",
   "metadata": {},
   "outputs": [],
   "source": [
    "# Select all elements with class=\"country-name\"\n",
    "country_names = soup.select(\".country-name\")\n",
    "\n",
    "for country in country_names:\n",
    "    print(\"🌍\", country.text.strip())"
   ]
  },
  {
   "cell_type": "markdown",
   "id": "7aafd970",
   "metadata": {},
   "source": [
    "## ✅ Example 3: Select by Tag and Class Together"
   ]
  },
  {
   "cell_type": "code",
   "execution_count": null,
   "id": "5ff13130",
   "metadata": {},
   "outputs": [],
   "source": [
    "# Only <h3> elements with class \"country-name\"\n",
    "h3_countries = soup.select(\"h3.country-name\")\n",
    "\n",
    "for h3 in h3_countries:\n",
    "    print(\"🌍\", h3.text.strip())"
   ]
  },
  {
   "cell_type": "markdown",
   "id": "282ad054",
   "metadata": {},
   "source": [
    "## ✅ Example 4: Select Nested Tags"
   ]
  },
  {
   "cell_type": "code",
   "execution_count": null,
   "id": "fcddc54c",
   "metadata": {},
   "outputs": [],
   "source": [
    "# Get all country blocks (div > h3 + spans inside)\n",
    "countries = soup.select(\"div.country\")\n",
    "\n",
    "for country in countries:\n",
    "    name = country.select_one(\"h3.country-name\").text.strip()\n",
    "    capital = country.select_one(\"span.country-capital\").text.strip()\n",
    "    population = country.select_one(\"span.country-population\").text.strip()\n",
    "    area = country.select_one(\"span.country-area\").text.strip()\n",
    "    \n",
    "    print(f\"{name} | Capital: {capital}, Population: {population}, Area: {area} km²\")"
   ]
  },
  {
   "cell_type": "markdown",
   "id": "bad4ba10",
   "metadata": {},
   "source": [
    "## Quick CSS Selector Cheatsheet\n",
    "| Selector       | Description                        |\n",
    "| -------------- | ---------------------------------- |\n",
    "| `tag`          | All elements with that tag (`h3`)  |\n",
    "| `.class`       | Elements with class (`.title`)     |\n",
    "| `#id`          | Element with specific ID (`#main`) |\n",
    "| `tag.class`    | Tag with class (`div.card`)        |\n",
    "| `tag1 tag2`    | tag2 inside tag1 (`div span`)      |\n",
    "| `tag > tag`    | Direct children only (`ul > li`)   |\n",
    "| `[attr=value]` | Attribute-based (`a[href=\"...\"]`)  |\n"
   ]
  },
  {
   "cell_type": "markdown",
   "id": "b457faa3",
   "metadata": {},
   "source": [
    "## Practice Tasks\n",
    "\n",
    "1. Use .select() to extract all country areas using the span.country-area selector.\n",
    "\n",
    "2. Try using .select_one() on the first .country-name tag.\n",
    "\n",
    "3. Combine nested selectors like:\n",
    "\n",
    "```css\n",
    "div.country span.country-capital\n",
    "```"
   ]
  },
  {
   "cell_type": "markdown",
   "id": "c3bd265f",
   "metadata": {},
   "source": [
    "## 🔜 Next up: Lesson 6 – Cleaning Extracted Data\n",
    "\n",
    "We’ll cover `.text`, `.strip()`, `replace()`, and more!"
   ]
  }
 ],
 "metadata": {
  "kernelspec": {
   "display_name": "venv",
   "language": "python",
   "name": "python3"
  },
  "language_info": {
   "codemirror_mode": {
    "name": "ipython",
    "version": 3
   },
   "file_extension": ".py",
   "mimetype": "text/x-python",
   "name": "python",
   "nbconvert_exporter": "python",
   "pygments_lexer": "ipython3",
   "version": "3.10.10"
  }
 },
 "nbformat": 4,
 "nbformat_minor": 5
}

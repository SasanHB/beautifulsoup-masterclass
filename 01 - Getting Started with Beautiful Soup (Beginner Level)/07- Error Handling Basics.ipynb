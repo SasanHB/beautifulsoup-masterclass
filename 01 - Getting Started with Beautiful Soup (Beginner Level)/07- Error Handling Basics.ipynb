{
 "cells": [
  {
   "cell_type": "markdown",
   "id": "4c16bff1",
   "metadata": {},
   "source": [
    "#🎓 Lesson 7: Error Handling Basics\n",
    "\n",
    "🎯 Goal\n",
    "\n",
    "- In this lesson, you’ll learn how to:\n",
    "- Handle network and request errors\n",
    "- Prevent your code from crashing if an element is missing\n",
    "- Add default values and graceful fallbacks\n",
    "\n"
   ]
  },
  {
   "cell_type": "markdown",
   "id": "a10e83c9",
   "metadata": {},
   "source": [
    "## Why Handle Errors?\n",
    "\n",
    "Web scraping often deals with:\n",
    "- Network issues (timeouts, 404 errors)\n",
    "- Unexpected HTML structure (missing tags)\n",
    "- Malformed data (blank or dirty text)\n",
    "\n",
    "To build robust scrapers, we must expect the unexpected."
   ]
  },
  {
   "cell_type": "markdown",
   "id": "bf492dea",
   "metadata": {},
   "source": [
    "## ✅ Example: Handling Missing Elements Gracefully\n",
    "\n",
    "We'll scrape from 📍 https://scrapethissite.com/pages/simple/\n",
    "and add safe guards when extracting data."
   ]
  },
  {
   "cell_type": "code",
   "execution_count": null,
   "id": "cb99dba6",
   "metadata": {},
   "outputs": [],
   "source": [
    "import requests\n",
    "from bs4 import BeautifulSoup\n",
    "\n",
    "url = \"https://scrapethissite.com/pages/simple/\"\n",
    "try:\n",
    "    response = requests.get(url)\n",
    "    response.raise_for_status()  # 🔥 Raise exception for HTTP errors\n",
    "except requests.exceptions.RequestException as e:\n",
    "    print(\"Error fetching the page:\", e)\n",
    "    exit()\n",
    "\n",
    "soup = BeautifulSoup(response.text, \"lxml\")\n",
    "\n",
    "countries = soup.select(\"div.country\")\n",
    "\n",
    "for country in countries:\n",
    "    try:\n",
    "        name = country.select_one(\"h3.country-name\").text.strip()\n",
    "    except AttributeError:\n",
    "        name = \"Unknown\"\n",
    "\n",
    "    try:\n",
    "        capital = country.select_one(\"span.country-capital\").text.strip()\n",
    "    except AttributeError:\n",
    "        capital = \"N/A\"\n",
    "\n",
    "    try:\n",
    "        population = int(country.select_one(\"span.country-population\").text.strip().replace(\",\", \"\"))\n",
    "    except (AttributeError, ValueError):\n",
    "        population = 0\n",
    "\n",
    "    print(f\"🌍 {name} | Capital: {capital} | Population: {population}\")"
   ]
  },
  {
   "cell_type": "markdown",
   "id": "fd316f3a",
   "metadata": {},
   "source": [
    "## 🔎 Explanation\n",
    "\n",
    "| Concept                       | What it does                                |\n",
    "| ----------------------------- | ------------------------------------------- |\n",
    "| `try-except`                  | Catches and handles runtime errors          |\n",
    "| `AttributeError`              | Happens when `.text` is called on `None`    |\n",
    "| `ValueError`                  | Happens when converting non-numeric data    |\n",
    "| `response.raise_for_status()` | Throws an error if HTTP response is not 200 |\n"
   ]
  },
  {
   "cell_type": "markdown",
   "id": "1952e922",
   "metadata": {},
   "source": [
    "## 💡 Common Pitfall\n",
    "\n",
    "Don’t do this (can crash your script):"
   ]
  },
  {
   "cell_type": "code",
   "execution_count": null,
   "id": "3390f7e2",
   "metadata": {},
   "outputs": [],
   "source": [
    "population = int(country.select_one(\"span.population\").text)"
   ]
  },
  {
   "cell_type": "markdown",
   "id": "168e5a2b",
   "metadata": {},
   "source": [
    "⚠️ If select_one() returns None, calling .text will raise an error."
   ]
  },
  {
   "cell_type": "markdown",
   "id": "7ea6c275",
   "metadata": {},
   "source": [
    "## Practice Tasks\n",
    "\n",
    "1. Deliberately use a wrong selector like \"span.wrong-class\" and handle the missing element with a default value.\n",
    "\n",
    "2. Wrap your entire scraping loop with a try-except to catch and log any unexpected error.\n",
    "\n",
    "3. Print errors with more context:"
   ]
  },
  {
   "cell_type": "code",
   "execution_count": null,
   "id": "8232fa10",
   "metadata": {},
   "outputs": [],
   "source": [
    "print(f\"❌ Error processing country block: {e}\")"
   ]
  },
  {
   "cell_type": "markdown",
   "id": "8835e874",
   "metadata": {},
   "source": [
    "## 💡 Pro Tip: Always Validate Your Data\n",
    "\n",
    "Before storing or using scraped data, check its format and clean it safely."
   ]
  },
  {
   "cell_type": "markdown",
   "id": "862f30d2",
   "metadata": {},
   "source": [
    "## 🔜 Next up: Lesson 8 – Extracting Tables and Lists\n",
    "\n",
    "Learn how to work with `<table>`, `<ul>`, and structured data blocks!"
   ]
  }
 ],
 "metadata": {
  "kernelspec": {
   "display_name": "venv",
   "language": "python",
   "name": "python3"
  },
  "language_info": {
   "codemirror_mode": {
    "name": "ipython",
    "version": 3
   },
   "file_extension": ".py",
   "mimetype": "text/x-python",
   "name": "python",
   "nbconvert_exporter": "python",
   "pygments_lexer": "ipython3",
   "version": "3.10.10"
  }
 },
 "nbformat": 4,
 "nbformat_minor": 5
}

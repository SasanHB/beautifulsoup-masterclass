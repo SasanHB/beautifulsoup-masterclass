{
 "cells": [
  {
   "cell_type": "markdown",
   "id": "b25494ca",
   "metadata": {},
   "source": [
    "# 🎓 Lesson 6: 🧹 Cleaning Extracted Data\n",
    "\n",
    "🎯 Goal\n",
    "\n",
    "In this lesson, you’ll learn:\n",
    "1. How to clean raw HTML text\n",
    "2. How to remove unwanted characters and whitespace\n",
    "3. How to normalize inconsistent data (e.g. numbers or units)"
   ]
  },
  {
   "cell_type": "markdown",
   "id": "d4746355",
   "metadata": {},
   "source": [
    "## 💻 Real Example Site\n",
    "\n",
    "📍 https://scrapethissite.com/pages/simple/\n",
    "\n",
    "Let’s extract and clean country names, populations, and area data."
   ]
  },
  {
   "cell_type": "markdown",
   "id": "ca4c88a9",
   "metadata": {},
   "source": [
    "## ✅ Example: Extract Raw and Cleaned Data"
   ]
  },
  {
   "cell_type": "code",
   "execution_count": null,
   "id": "52ec2fe5",
   "metadata": {},
   "outputs": [],
   "source": [
    "import requests\n",
    "from bs4 import BeautifulSoup\n",
    "\n",
    "url = \"https://scrapethissite.com/pages/simple/\"\n",
    "response = requests.get(url)\n",
    "soup = BeautifulSoup(response.text, \"lxml\")\n",
    "\n",
    "# Get all country blocks\n",
    "countries = soup.select(\"div.country\")\n",
    "\n",
    "for country in countries:\n",
    "    raw_name = country.select_one(\"h3.country-name\").text\n",
    "    raw_population = country.select_one(\"span.country-population\").text\n",
    "    raw_area = country.select_one(\"span.country-area\").text\n",
    "\n",
    "    # 🧼 Clean the data\n",
    "    name = raw_name.strip()\n",
    "    population = raw_population.strip().replace(\",\", \"\")\n",
    "    area = raw_area.strip().replace(\",\", \"\")\n",
    "\n",
    "    print(f\"🌍 {name} | Population: {population} | Area: {area} km²\")"
   ]
  },
  {
   "cell_type": "markdown",
   "id": "5ecc87cb",
   "metadata": {},
   "source": [
    "## 🧠 Useful Cleaning Functions\n",
    "\n",
    "| Method                | Purpose                                 |\n",
    "| --------------------- | --------------------------------------- |\n",
    "| `.strip()`            | Removes leading and trailing whitespace |\n",
    "| `.replace(old, new)`  | Replaces characters or strings          |\n",
    "| `.lower() / .upper()` | Normalize text case                     |\n",
    "| `.split()`            | Break text into parts                   |\n",
    "| `int()` / `float()`   | Convert numeric text to numbers         |\n"
   ]
  },
  {
   "cell_type": "markdown",
   "id": "ff967bb8",
   "metadata": {},
   "source": [
    "##🔁 Converting to Integers and Floats\n",
    "\n",
    "If you want to store or calculate with the population/area data:"
   ]
  },
  {
   "cell_type": "code",
   "execution_count": 2,
   "id": "fae3a25e",
   "metadata": {},
   "outputs": [],
   "source": [
    "population = int(population)\n",
    "area = float(area)"
   ]
  },
  {
   "cell_type": "markdown",
   "id": "5ca608a2",
   "metadata": {},
   "source": [
    "⚠️ Just make sure to remove commas first (\"1,000,000\" → \"1000000\")."
   ]
  },
  {
   "cell_type": "markdown",
   "id": "09b19107",
   "metadata": {},
   "source": [
    "## 🧪 Practice Tasks\n",
    "\n",
    "1. Extract the raw .text from each .country-area and clean it (remove commas).\n",
    "\n",
    "2. Convert population and area values into integers/floats and calculate population density.\n",
    "\n",
    "3. Normalize all country names to uppercase using .upper()."
   ]
  },
  {
   "cell_type": "markdown",
   "id": "dd03a85a",
   "metadata": {},
   "source": [
    "Example:\n",
    "\n",
    "density = population / area"
   ]
  },
  {
   "cell_type": "markdown",
   "id": "3f9d0e02",
   "metadata": {},
   "source": [
    "## 🔜 Next up: Lesson 7 – Error Handling Basics\n",
    "\n",
    "You’ll learn `try-except`, how to handle missing tags, and avoid common Beautiful Soup pitfalls."
   ]
  }
 ],
 "metadata": {
  "kernelspec": {
   "display_name": "venv",
   "language": "python",
   "name": "python3"
  },
  "language_info": {
   "codemirror_mode": {
    "name": "ipython",
    "version": 3
   },
   "file_extension": ".py",
   "mimetype": "text/x-python",
   "name": "python",
   "nbconvert_exporter": "python",
   "pygments_lexer": "ipython3",
   "version": "3.10.10"
  }
 },
 "nbformat": 4,
 "nbformat_minor": 5
}

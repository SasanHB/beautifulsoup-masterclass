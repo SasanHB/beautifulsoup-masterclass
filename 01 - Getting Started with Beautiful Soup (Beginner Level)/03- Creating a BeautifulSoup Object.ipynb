{
 "cells": [
  {
   "cell_type": "markdown",
   "id": "44c81fc5",
   "metadata": {},
   "source": [
    "# 🎓 Lesson 3: Creating a BeautifulSoup Object\n",
    "🎯 Goal\n",
    "- In this lesson, you'll learn:\n",
    "- How to fetch a real webpage using requests\n",
    "- How to create a BeautifulSoup object\n",
    "- What parsers are and which one to use"
   ]
  },
  {
   "cell_type": "markdown",
   "id": "c40076fb",
   "metadata": {},
   "source": [
    "## 💻 Step-by-step Example using a Real Site\n",
    "We’ll use https://scrapethissite.com/pages/simple/\n",
    "\n",
    "This page contains basic HTML content, ideal for testing Beautiful Soup."
   ]
  },
  {
   "cell_type": "markdown",
   "id": "88163710",
   "metadata": {},
   "source": [
    "### ✅ Sample Code"
   ]
  },
  {
   "cell_type": "code",
   "execution_count": null,
   "id": "1984298b",
   "metadata": {},
   "outputs": [],
   "source": [
    "# 📦 Import the necessary libraries\n",
    "import requests\n",
    "from bs4 import BeautifulSoup\n",
    "\n",
    "# 🌐 Target URL (educational site)\n",
    "url = \"https://scrapethissite.com/pages/simple/\"\n",
    "\n",
    "# 🔍 Send a GET request to the page\n",
    "response = requests.get(url)\n",
    "\n",
    "# 🛠 Create the BeautifulSoup object\n",
    "soup = BeautifulSoup(response.text, \"lxml\")  # You can also use \"html.parser\"\n",
    "\n",
    "# 🔎 Let's see what the page title is\n",
    "print(\"Page title tag:\", soup.title)\n",
    "print(\"Page title text:\", soup.title.string)\n",
    "\n",
    "# 🧾 Print the first paragraph text\n",
    "first_paragraph = soup.find(\"p\")\n",
    "print(\"First paragraph:\", first_paragraph.text.strip())"
   ]
  },
  {
   "cell_type": "markdown",
   "id": "ea71a441",
   "metadata": {},
   "source": [
    "### What’s Happening in This Code?\n",
    "\n",
    "| Line                                   | Description                               |\n",
    "| -------------------------------------- | ----------------------------------------- |\n",
    "| `requests.get()`                       | Fetches the web page                      |\n",
    "| `BeautifulSoup(response.text, \"lxml\")` | Parses the HTML content                   |\n",
    "| `soup.title`                           | Finds the `<title>` tag                   |\n",
    "| `.string`                              | Extracts the text inside the tag          |\n",
    "| `.find(\"p\")`                           | Finds the first `<p>` (paragraph) element |\n"
   ]
  },
  {
   "cell_type": "markdown",
   "id": "a63e0e9a",
   "metadata": {},
   "source": [
    "### ⚙️ About Parsers\n",
    "You can use multiple parsers with Beautiful Soup:\n",
    "\n",
    "| Parser        | Description                  |\n",
    "| ------------- | ---------------------------- |\n",
    "| `html.parser` | Built-in, pure Python        |\n",
    "| `lxml`        | Fast, needs `lxml` installed |\n",
    "| `html5lib`    | Most forgiving, slowest      |\n"
   ]
  },
  {
   "cell_type": "markdown",
   "id": "92bd06a5",
   "metadata": {},
   "source": [
    "### 💡 Pro Tip\n",
    "If you ever want to see the whole page structure, print it like this:"
   ]
  },
  {
   "cell_type": "code",
   "execution_count": null,
   "id": "d137b2f7",
   "metadata": {},
   "outputs": [],
   "source": [
    "print(soup.prettify())"
   ]
  },
  {
   "cell_type": "markdown",
   "id": "90476ab3",
   "metadata": {},
   "source": [
    "This will show a nicely formatted version of the HTML."
   ]
  },
  {
   "cell_type": "markdown",
   "id": "5d1778af",
   "metadata": {},
   "source": [
    "## Practice Tasks  \n",
    "Open the URL https://scrapethissite.com/pages/simple/  \n",
    "\n",
    "Try printing the following with BeautifulSoup:  \n",
    "- All &lt;h3&gt; tags  \n",
    "- All &lt;p&gt; tags  \n",
    "- The second paragraph only  \n",
    "\n",
    "Experiment with `.find_all()` and indexing results\n"
   ]
  },
  {
   "cell_type": "markdown",
   "id": "0b3525f5",
   "metadata": {},
   "source": [
    "## 🔜 Next up: Lesson 4 – Navigating the HTML Tree\n",
    "\n",
    "We'll explore `.find()`, `.find_all()`, `.parent`, `.next_sibling`, and how to navigate like a pro."
   ]
  }
 ],
 "metadata": {
  "kernelspec": {
   "display_name": "venv",
   "language": "python",
   "name": "python3"
  },
  "language_info": {
   "codemirror_mode": {
    "name": "ipython",
    "version": 3
   },
   "file_extension": ".py",
   "mimetype": "text/x-python",
   "name": "python",
   "nbconvert_exporter": "python",
   "pygments_lexer": "ipython3",
   "version": "3.10.10"
  }
 },
 "nbformat": 4,
 "nbformat_minor": 5
}

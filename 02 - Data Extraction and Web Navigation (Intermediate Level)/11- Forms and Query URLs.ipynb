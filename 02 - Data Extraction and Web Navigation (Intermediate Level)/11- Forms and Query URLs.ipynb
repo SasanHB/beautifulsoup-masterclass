{
 "cells": [
  {
   "cell_type": "markdown",
   "id": "941f1356",
   "metadata": {},
   "source": [
    "# 🎓 Lesson 11: Forms and Query URLs\n",
    "\n",
    "🎯 Goal\n",
    "\n",
    "In this lesson, you’ll learn how to:\n",
    "\n",
    "1. Identify and use URLs that accept GET query parameters\n",
    "\n",
    "2. Simulate basic filtering/search without logging in\n",
    "\n",
    "3. Scrape based on user-defined filters (e.g., search by year or name)"
   ]
  },
  {
   "cell_type": "markdown",
   "id": "26b6ff05",
   "metadata": {},
   "source": [
    "## 💻 Real Example: Hockey Teams by Year\n",
    "\n",
    "📍 https://quotes.toscrape.com/tag/{tag}/\n",
    "\n",
    "This URL supports filtering quotes by tag using GET-style URLs like:\n",
    "\n",
    "- https://quotes.toscrape.com/tag/love/\n",
    "\n",
    "- https://quotes.toscrape.com/tag/inspirational/\n",
    "\n",
    "- https://quotes.toscrape.com/tag/life/\n",
    "\n",
    "No JavaScript needed, it works perfectly with BeautifulSoup.\n",
    "\n"
   ]
  },
  {
   "cell_type": "markdown",
   "id": "73c4d09f",
   "metadata": {},
   "source": [
    "## ✅ Example: Filtering quotes by tag via URL"
   ]
  },
  {
   "cell_type": "code",
   "execution_count": null,
   "id": "2cf12770",
   "metadata": {},
   "outputs": [],
   "source": [
    "import requests\n",
    "from bs4 import BeautifulSoup\n",
    "\n",
    "# ✍ User-defined filter (quote tag)\n",
    "tag = \"life\"  # You can also try \"love\", \"inspirational\", \"friendship\", etc.\n",
    "\n",
    "# 🔗 Construct the filtered URL\n",
    "url = f\"https://quotes.toscrape.com/tag/{tag}/\"\n",
    "\n",
    "# 🌐 Send GET request to the filtered URL\n",
    "response = requests.get(url)\n",
    "\n",
    "# 🍜 Parse HTML content using BeautifulSoup\n",
    "soup = BeautifulSoup(response.text, \"lxml\")\n",
    "\n",
    "# 🔍 Find all quote blocks on the filtered page\n",
    "quotes = soup.select(\"div.quote\")\n",
    "\n",
    "# 🔁 Loop through quotes and extract details\n",
    "for quote in quotes:\n",
    "    text = quote.select_one(\"span.text\").text.strip()\n",
    "    author = quote.select_one(\"small.author\").text.strip()\n",
    "    print(f\"📝 {text} — {author}\")"
   ]
  },
  {
   "cell_type": "markdown",
   "id": "5dfb6199",
   "metadata": {},
   "source": [
    "### 🔍 Explanation of Each Part\n",
    "\n",
    "| Line                       | Description                        |\n",
    "| -------------------------- | ---------------------------------- |\n",
    "| `tag = \"life\"`             | Sets the tag for filtering quotes  |\n",
    "| `url = f\".../{tag}/\"`      | Builds a filtered page URL         |\n",
    "| `soup.select(\"div.quote\")` | Grabs all quote containers         |\n",
    "| `select_one(...)`          | Extracts the quote text and author |\n"
   ]
  },
  {
   "cell_type": "markdown",
   "id": "9b936e2a",
   "metadata": {},
   "source": [
    "### 💡 Where to Use This\n",
    "\n",
    "- Sites with search bars or filter-by-URL logic\n",
    "\n",
    "- Product listings: `?category=phones`\n",
    "\n",
    "- Job portals: `?location=remote&company=Google`\n",
    "\n",
    "- Query pages that show different content based on the URL"
   ]
  },
  {
   "cell_type": "markdown",
   "id": "4ea885e9",
   "metadata": {},
   "source": [
    "## Practice Tasks\n",
    "\n",
    "1. Change the tag to \"love\", \"humor\", or \"inspirational\" and run the scraper again.\n",
    "\n",
    "2. Wrap the tag input in a user prompt:\n",
    "\n",
    "```python\n",
    "tag = input(\"Enter a quote tag to filter by: \").strip().lower()\n",
    "```\n",
    "3. Save the scraped quotes into a list or CSV file (coming soon in Lesson 13)."
   ]
  },
  {
   "cell_type": "markdown",
   "id": "fafb1f0f",
   "metadata": {},
   "source": [
    "## 🔜 Next up: Lesson 12 – Polite Scraping (Delay, Headers, User-Agent)\n",
    "\n",
    "Learn how to avoid being blocked or detected as a bot, scrape respectfully and like a pro!"
   ]
  }
 ],
 "metadata": {
  "kernelspec": {
   "display_name": "venv",
   "language": "python",
   "name": "python3"
  },
  "language_info": {
   "codemirror_mode": {
    "name": "ipython",
    "version": 3
   },
   "file_extension": ".py",
   "mimetype": "text/x-python",
   "name": "python",
   "nbconvert_exporter": "python",
   "pygments_lexer": "ipython3",
   "version": "3.10.10"
  }
 },
 "nbformat": 4,
 "nbformat_minor": 5
}

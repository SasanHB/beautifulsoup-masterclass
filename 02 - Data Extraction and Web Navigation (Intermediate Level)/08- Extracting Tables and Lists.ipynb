{
 "cells": [
  {
   "cell_type": "markdown",
   "id": "eec96127",
   "metadata": {},
   "source": [
    "# 🎓 Lesson 8: Extracting Tables and Lists\n",
    "\n",
    "🎯 Goal\n",
    "\n",
    "In this lesson, you’ll learn how to:\n",
    "- Scrape structured data from HTML &lt;table&gt;, &lt;ul&gt;, and &lt;ol&gt; elements\n",
    "- Iterate through rows and cells\n",
    "- Extract content into Python-friendly formats"
   ]
  },
  {
   "cell_type": "markdown",
   "id": "ef416c40",
   "metadata": {},
   "source": [
    "## ⚠️ Note for Students\n",
    "❗ The earlier scrapethissite.com/pages/forms/ example uses form inputs and JavaScript logic. BeautifulSoup can’t handle such interactions directly, we’ll explore advanced techniques like form emulation and Selenium in future lessons."
   ]
  },
  {
   "cell_type": "markdown",
   "id": "e1dd7ad8",
   "metadata": {},
   "source": [
    "## 🗂️ Section A: Extracting Data from &lt;ul&gt; and &lt;ol&gt; Lists\n",
    "\n",
    "Even though the scrapethissite.com pages don’t have educational &lt;ul&gt; or &lt;ol&gt; examples, we can use a safe practice site or even embed a sample block directly in code to demonstrate.\n",
    "\n",
    "We’ll simulate this with a real list structure for learning purposes."
   ]
  },
  {
   "cell_type": "markdown",
   "id": "b8f40a62",
   "metadata": {},
   "source": [
    "### 📘 Example HTML (Simulated or Offline)\n",
    "\n",
    "Suppose we have the following HTML from a blog or product list:"
   ]
  },
  {
   "cell_type": "markdown",
   "id": "3cfbe6ce",
   "metadata": {},
   "source": [
    "```html\n",
    "<ul class=\"frameworks\">\n",
    "    <li>Beautiful Soup</li>\n",
    "    <li>Scrapy</li>\n",
    "    <li>Selenium</li>\n",
    "</ul>\n",
    "```"
   ]
  },
  {
   "cell_type": "markdown",
   "id": "28ec5628",
   "metadata": {},
   "source": [
    "### ✅ Code Example: Parsing an Unordered List"
   ]
  },
  {
   "cell_type": "code",
   "execution_count": null,
   "id": "0a9751b4",
   "metadata": {},
   "outputs": [],
   "source": [
    "from bs4 import BeautifulSoup\n",
    "\n",
    "# Simulated HTML (offline or embedded)\n",
    "html = '''\n",
    "<ul class=\"frameworks\">\n",
    "    <li>Beautiful Soup</li>\n",
    "    <li>Scrapy</li>\n",
    "    <li>Selenium</li>\n",
    "</ul>\n",
    "'''\n",
    "\n",
    "soup = BeautifulSoup(html, \"lxml\")\n",
    "\n",
    "# Find all <li> elements inside .frameworks list\n",
    "items = soup.select(\"ul.frameworks li\")\n",
    "\n",
    "for item in items:\n",
    "    print(\"🧰\", item.text.strip())"
   ]
  },
  {
   "cell_type": "markdown",
   "id": "f6f19e6a",
   "metadata": {},
   "source": [
    "### Where &lt;ul&gt; and &lt;ol&gt; Appear in Real Scraping\n",
    "\n",
    "You’ll often find lists in:\n",
    "\n",
    "- News sites (list of headlines or authors)\n",
    "- Product sites (features, categories)\n",
    "- Reviews and comments\n",
    "- Academic or government websites"
   ]
  },
  {
   "cell_type": "markdown",
   "id": "655d4096",
   "metadata": {},
   "source": [
    "## 🗂️ Section B: Extracting Data from &lt;table&gt; Elements\n",
    "\n",
    "For this demo, we'll use another test page:\n",
    "\n",
    "📍 https://scrapethissite.com/pages/forms/\n",
    "\n",
    "This page contains a table of hockey teams."
   ]
  },
  {
   "cell_type": "markdown",
   "id": "7d2c6a6d",
   "metadata": {},
   "source": [
    "### ✅ Example: Scraping a Real HTML Table (Sales Orders)"
   ]
  },
  {
   "cell_type": "code",
   "execution_count": null,
   "id": "50470168",
   "metadata": {},
   "outputs": [],
   "source": [
    "import requests\n",
    "from bs4 import BeautifulSoup\n",
    "\n",
    "# Fetch the page\n",
    "url = \"https://www.scrapethissite.com/pages/forms/?page_num=1\"\n",
    "response = requests.get(url)\n",
    "soup = BeautifulSoup(response.text, \"lxml\")\n",
    "\n",
    "# Find the table rows inside tbody\n",
    "rows = soup.select(\"table tbody tr\")\n",
    "print(rows)\n",
    "# Loop through each row and extract data\n",
    "for row in rows:\n",
    "    team_name = row.select_one(\"td.name\").text.strip()\n",
    "    year_founded = row.select_one(\"td.year\").text.strip()\n",
    "    wins = row.select_one(\"td.wins\").text.strip()\n",
    "    losses = row.select_one(\"td.losses\").text.strip()\n",
    "\n",
    "    print(f\"🏒 Team: {team_name} | Founded: {year_founded} | Wins: {wins} | Losses: {losses}\")"
   ]
  },
  {
   "cell_type": "markdown",
   "id": "935a800e",
   "metadata": {},
   "source": [
    "📌 Example Output\n",
    "\n",
    "🛒 1/6/2020 | East | Jones | Pencil | 95 units\n",
    "\n",
    "🛒 1/23/2020 | Central | Kivell | Binder | 50 units"
   ]
  },
  {
   "cell_type": "markdown",
   "id": "3ad134ef",
   "metadata": {},
   "source": [
    "### row.select_one(\"td.classname\") – When and Why to Use It\n",
    "\n",
    "If the `<td>` element you're targeting has a CSS class, you can use `select_one()` with a CSS selector for cleaner and more readable code.\n",
    "\n",
    "✅ Example HTML:"
   ]
  },
  {
   "cell_type": "code",
   "execution_count": null,
   "id": "683a44f0",
   "metadata": {
    "vscode": {
     "languageId": "html"
    }
   },
   "outputs": [],
   "source": [
    "<tr>\n",
    "  <td class=\"team-name\">Arsenal</td>\n",
    "  <td class=\"year\">1886</td>\n",
    "</tr>"
   ]
  },
  {
   "cell_type": "markdown",
   "id": "629bb1f5",
   "metadata": {},
   "source": [
    "✅ Two Ways to Get the Year\n",
    "\n",
    "1️⃣ Using .find() with class_:"
   ]
  },
  {
   "cell_type": "code",
   "execution_count": null,
   "id": "32af3fb6",
   "metadata": {},
   "outputs": [],
   "source": [
    "year = row.find(\"td\", class_=\"year\").text.strip()"
   ]
  },
  {
   "cell_type": "markdown",
   "id": "61616567",
   "metadata": {},
   "source": [
    "2️⃣ Using .select_one() with a CSS selector (recommended for clarity):"
   ]
  },
  {
   "cell_type": "code",
   "execution_count": null,
   "id": "660ca1f3",
   "metadata": {},
   "outputs": [],
   "source": [
    "year = row.select_one(\"td.year\").text.strip()"
   ]
  },
  {
   "cell_type": "markdown",
   "id": "8944fc82",
   "metadata": {},
   "source": [
    "✅ Best for consistency if you're already using .select() elsewhere in your code"
   ]
  },
  {
   "cell_type": "markdown",
   "id": "0ae03f6b",
   "metadata": {},
   "source": [
    "⚠️ What If There's No Class or ID?\n",
    "Then you’ll need to fall back to `find_all()` and use indexing:"
   ]
  },
  {
   "cell_type": "code",
   "execution_count": null,
   "id": "102fe150",
   "metadata": {},
   "outputs": [],
   "source": [
    "columns = row.find_all(\"td\")\n",
    "year = columns[1].text.strip()"
   ]
  },
  {
   "cell_type": "markdown",
   "id": "907c6cfa",
   "metadata": {},
   "source": [
    "💡 Pro Tip:\n",
    "\n",
    "`select_one()` works exactly like `querySelector()` in JavaScript, so if you know how to select elements in browser DevTools, you can use the same syntax here."
   ]
  },
  {
   "cell_type": "markdown",
   "id": "6bbdfafb",
   "metadata": {},
   "source": [
    "Summary Table\n",
    "\n",
    "| Selector                | Purpose                                |\n",
    "| ----------------------- | -------------------------------------- |\n",
    "| `td.classname`          | A `<td>` tag with a specific class     |\n",
    "| `td#idname`             | A `<td>` tag with a specific ID        |\n",
    "| `tr > td.classname`     | A direct child `td` of `tr` with class |\n",
    "| `div.container td.year` | Any `td.year` inside `.container` div  |\n"
   ]
  },
  {
   "cell_type": "markdown",
   "id": "b00b42ec",
   "metadata": {},
   "source": [
    "# Practice Tasks\n",
    "\n",
    "1. Filter and print only rows where region == \"Central\".\n",
    "2. Convert units to integers and find the average.\n",
    "3. Store the data in a list of dictionaries and print the first 5 entries.\n",
    "4. Create your own HTML block with an `<ol>` list of programming languages and scrape them.\n",
    "5. Visit a real site (e.g. https://quotes.toscrape.com) and try scraping the list of tags at the bottom."
   ]
  },
  {
   "cell_type": "markdown",
   "id": "aac0de9b",
   "metadata": {},
   "source": [
    "## 🔜 Next up: Lesson 9 – Advanced Searching (Regex, Lambda, Attribute Filters)\n",
    "\n",
    "We’ll learn `.find_all()` with `attrs`, `string=`, `text=`, regex, and even lambdas to filter data powerfully."
   ]
  }
 ],
 "metadata": {
  "kernelspec": {
   "display_name": "venv",
   "language": "python",
   "name": "python3"
  },
  "language_info": {
   "codemirror_mode": {
    "name": "ipython",
    "version": 3
   },
   "file_extension": ".py",
   "mimetype": "text/x-python",
   "name": "python",
   "nbconvert_exporter": "python",
   "pygments_lexer": "ipython3",
   "version": "3.10.10"
  }
 },
 "nbformat": 4,
 "nbformat_minor": 5
}

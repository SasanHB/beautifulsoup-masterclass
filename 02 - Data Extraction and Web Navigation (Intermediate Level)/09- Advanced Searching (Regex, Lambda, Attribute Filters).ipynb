{
 "cells": [
  {
   "cell_type": "markdown",
   "id": "7edb8aeb",
   "metadata": {},
   "source": [
    "# 🎓 Lesson 9: Advanced Searching (Regex, Lambda, Attribute Filters)\n",
    "\n",
    "🎯 Goal\n",
    "\n",
    "In this lesson, you'll learn how to:\n",
    "1. Use `attrs={}` to filter by HTML attributes\n",
    "2. Use regex to match text patterns\n",
    "3. Use lambda functions to apply custom filters\n",
    "4. Search using `string=`, `text=`, and more"
   ]
  },
  {
   "cell_type": "markdown",
   "id": "efde7e3b",
   "metadata": {},
   "source": [
    "💻 We'll Use:\n",
    "\n",
    "📍 https://scrapethissite.com/pages/forms/\n",
    "\n",
    "This page has a structured hockey team table perfect for advanced searches."
   ]
  },
  {
   "cell_type": "code",
   "execution_count": null,
   "id": "879654fc",
   "metadata": {},
   "outputs": [],
   "source": [
    "from bs4 import BeautifulSoup\n",
    "import requests\n",
    "\n",
    "url = \"https://scrapethissite.com/pages/forms/\"\n",
    "soup = BeautifulSoup(requests.get(url).text, \"lxml\")\n",
    "\n",
    "# 🔎 All elements with specific class using attrs\n",
    "rows = soup.find_all(\"tr\", attrs={\"class\": \"team\"})\n",
    "\n",
    "print(f\"Found {len(rows)} rows with class='team'\")"
   ]
  },
  {
   "cell_type": "markdown",
   "id": "89f82405",
   "metadata": {},
   "source": [
    "Same as:"
   ]
  },
  {
   "cell_type": "code",
   "execution_count": null,
   "id": "481b033b",
   "metadata": {},
   "outputs": [],
   "source": [
    "rows = soup.select(\"tr.team\")\n",
    "print(f\"Found {len(rows)} rows with class='team'\")"
   ]
  },
  {
   "cell_type": "markdown",
   "id": "fe425804",
   "metadata": {},
   "source": [
    "## ✅ Section B: Searching with `string=` or `text=`"
   ]
  },
  {
   "cell_type": "code",
   "execution_count": null,
   "id": "5b0c64bd",
   "metadata": {},
   "outputs": [],
   "source": [
    "# Find all elements whose exact text is \"Boston Bruins\"\n",
    "team_elements = soup.find_all(\"td\", string=\"Boston Bruins\") # return []\n",
    "\n",
    "for team in team_elements:\n",
    "    print(\"Found exact match:\", team.text)\n",
    "\n",
    "print(team_elements)"
   ]
  },
  {
   "cell_type": "markdown",
   "id": "9b75ca4a",
   "metadata": {},
   "source": [
    "### 💡 Why does `soup.find_all(\"td\", string=\"Boston Bruins\")` return an empty list?\n",
    "\n",
    "Although this line looks correct:"
   ]
  },
  {
   "cell_type": "code",
   "execution_count": 17,
   "id": "3202f047",
   "metadata": {},
   "outputs": [],
   "source": [
    "team_elements = soup.find_all(\"td\", string=\"Boston Bruins\")"
   ]
  },
  {
   "cell_type": "markdown",
   "id": "20626e1a",
   "metadata": {},
   "source": [
    "…it often returns nothing. Why?"
   ]
  },
  {
   "cell_type": "markdown",
   "id": "ae0a8540",
   "metadata": {},
   "source": [
    "### 🔍 The Problem with `.string`\n",
    "\n",
    "The `.string` property works only if the tag contains exactly one direct text node.\n",
    "\n",
    "In the page https://scrapethissite.com/pages/forms/, the HTML structure looks like this:"
   ]
  },
  {
   "cell_type": "code",
   "execution_count": null,
   "id": "c7068963",
   "metadata": {
    "vscode": {
     "languageId": "html"
    }
   },
   "outputs": [],
   "source": [
    "<td class=\"name\"> Boston Bruins </td>"
   ]
  },
  {
   "cell_type": "markdown",
   "id": "4ad45270",
   "metadata": {},
   "source": [
    "Or sometimes like:"
   ]
  },
  {
   "cell_type": "code",
   "execution_count": null,
   "id": "0f0cc117",
   "metadata": {
    "vscode": {
     "languageId": "html"
    }
   },
   "outputs": [],
   "source": [
    "<td class=\"name\">\n",
    "    Boston Bruins\n",
    "</td>"
   ]
  },
  {
   "cell_type": "markdown",
   "id": "ea63b234",
   "metadata": {},
   "source": [
    "In these cases:\n",
    "\n",
    "- ✅ If the `<td>` contains only raw text (i.e. a single NavigableString), .string works\n",
    "\n",
    "- ❌ But if the tag contains extra whitespace, line breaks, or nested tags `.string` becomes None\n",
    "\n",
    "That’s why your code fails silently."
   ]
  },
  {
   "cell_type": "markdown",
   "id": "cf3b7436",
   "metadata": {},
   "source": [
    "### ✅ Solution 1: Use `.text.strip()` with lambda\n",
    "\n",
    "This method checks and matches the cleaned-up text manually:"
   ]
  },
  {
   "cell_type": "code",
   "execution_count": null,
   "id": "9aee8694",
   "metadata": {},
   "outputs": [],
   "source": [
    "team_elements = soup.find_all(\n",
    "    \"td\",\n",
    "    class_=\"name\",\n",
    "    string=lambda text: text and text.strip() == \"Boston Bruins\"\n",
    ")\n",
    "\n",
    "for team in team_elements:\n",
    "    print(\"✅ Match found:\", team.text.strip())"
   ]
  },
  {
   "cell_type": "markdown",
   "id": "4b81883c",
   "metadata": {},
   "source": [
    "This works more reliably because strip() removes invisible line breaks or spaces."
   ]
  },
  {
   "cell_type": "markdown",
   "id": "f91c15bf",
   "metadata": {},
   "source": [
    "### ✅ Solution 2: Use Regex Matching\n",
    "\n",
    "This approach is more flexible, especially for case-insensitive or partial matches:"
   ]
  },
  {
   "cell_type": "code",
   "execution_count": null,
   "id": "8fb2c9a2",
   "metadata": {},
   "outputs": [],
   "source": [
    "import re\n",
    "\n",
    "team_elements = soup.find_all(\n",
    "    \"td\",\n",
    "    class_=\"name\",\n",
    "    string=re.compile(r\"\\bBoston Bruins\\b\")\n",
    ")\n",
    "\n",
    "for team in team_elements:\n",
    "    print(\"🔎 Regex Match:\", team.text.strip())"
   ]
  },
  {
   "cell_type": "markdown",
   "id": "47eadc74",
   "metadata": {},
   "source": [
    "### 📌 About `.string`\n",
    "\n",
    "Remember:\n",
    "\n",
    "tag.string\n"
   ]
  },
  {
   "cell_type": "markdown",
   "id": "fc992b45",
   "metadata": {},
   "source": [
    "| Behavior | Description                                              |\n",
    "| -------- | -------------------------------------------------------- |\n",
    "| ✅ Works  | When tag has **only text**, no nested tags or whitespace |\n",
    "| ❌ Fails  | When tag has extra formatting, spaces, or child tags     |\n"
   ]
  },
  {
   "cell_type": "markdown",
   "id": "469abf16",
   "metadata": {},
   "source": [
    "### ✅ Summary\n",
    "\n",
    "Instead of using:"
   ]
  },
  {
   "cell_type": "code",
   "execution_count": null,
   "id": "b69f552a",
   "metadata": {},
   "outputs": [],
   "source": [
    "soup.find_all(\"td\", string=\"Boston Bruins\")"
   ]
  },
  {
   "cell_type": "markdown",
   "id": "c2ccb0f7",
   "metadata": {},
   "source": [
    "It’s more reliable to use:\n",
    "\n",
    "- A lambda function with `.text.strip()` for exact cleaned matches\n",
    "\n",
    "- A `re.compile()` regex for flexible text pattern matching"
   ]
  },
  {
   "cell_type": "markdown",
   "id": "93336de5",
   "metadata": {},
   "source": [
    "## Practice Tasks\n",
    "\n",
    "1. Use regex to find all teams whose names start with `C`.\n",
    "\n",
    "2. Use lambda to find teams with less than 20 losses.\n",
    "\n",
    "3. Try filtering rows where team name contains “Leafs” (case-insensitive)."
   ]
  },
  {
   "cell_type": "markdown",
   "id": "04f56ca5",
   "metadata": {},
   "source": [
    "## 🔜 Next up: Lesson 10 – Pagination and Multi-page Scraping\n",
    "\n",
    "We’ll follow “Next” buttons and scrape across multiple pages, an essential real-world skill!"
   ]
  }
 ],
 "metadata": {
  "kernelspec": {
   "display_name": "venv",
   "language": "python",
   "name": "python3"
  },
  "language_info": {
   "codemirror_mode": {
    "name": "ipython",
    "version": 3
   },
   "file_extension": ".py",
   "mimetype": "text/x-python",
   "name": "python",
   "nbconvert_exporter": "python",
   "pygments_lexer": "ipython3",
   "version": "3.10.10"
  }
 },
 "nbformat": 4,
 "nbformat_minor": 5
}

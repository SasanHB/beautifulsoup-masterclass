{
 "cells": [
  {
   "cell_type": "markdown",
   "id": "a6ac1eca",
   "metadata": {},
   "source": [
    "# 🎓 Lesson 12: Polite Scraping (Delay, Headers, User-Agent)\n",
    "\n",
    "🎯 Goal\n",
    "\n",
    "In this lesson, you'll learn how to:\n",
    "\n",
    "1. Avoid overwhelming websites with too many requests\n",
    "\n",
    "2. Use `time.sleep()` and random delays\n",
    "\n",
    "3. Set headers like User-Agent to mimic real browsers\n",
    "\n",
    "4. Stay respectful and avoid getting blocked"
   ]
  },
  {
   "cell_type": "markdown",
   "id": "9b869898",
   "metadata": {},
   "source": [
    "## 🤖 Why Do Bots Get Blocked?\n",
    "\n",
    "Web servers may block your requests if you:\n",
    "\n",
    "1. Scrape too fast (many requests per second)\n",
    "\n",
    "2. Don’t send browser-like headers (looks like a bot)\n",
    "\n",
    "3. Hit restricted endpoints repeatedly\n",
    "\n",
    "4. Violate robots.txt or overload the server"
   ]
  },
  {
   "cell_type": "markdown",
   "id": "6574dc33",
   "metadata": {},
   "source": [
    "## ✅ Example: Add Delay and Headers to Quote Scraper"
   ]
  },
  {
   "cell_type": "code",
   "execution_count": null,
   "id": "88360d86",
   "metadata": {},
   "outputs": [],
   "source": [
    "import requests\n",
    "from bs4 import BeautifulSoup\n",
    "import time\n",
    "import random\n",
    "\n",
    "# User-defined tag to filter quotes\n",
    "tag = \"life\"\n",
    "base_url = f\"https://quotes.toscrape.com/tag/{tag}/page/{{}}/\"\n",
    "\n",
    "# Start from page 1\n",
    "page = 1\n",
    "\n",
    "while True:\n",
    "    url = base_url.format(page)\n",
    "    \n",
    "    # 🧢 Add custom headers to simulate a real browser\n",
    "    headers = {\n",
    "        \"User-Agent\": \"Mozilla/5.0 (Windows NT 10.0; Win64; x64) \"\n",
    "                      \"AppleWebKit/537.36 (KHTML, like Gecko) \"\n",
    "                      \"Chrome/113.0.0.0 Safari/537.36\"\n",
    "    }\n",
    "\n",
    "    print(f\"📄 Scraping page {page}...\")\n",
    "\n",
    "    # Send GET request with headers\n",
    "    response = requests.get(url, headers=headers)\n",
    "    soup = BeautifulSoup(response.text, \"lxml\")\n",
    "\n",
    "    # Extract all quote blocks\n",
    "    quotes = soup.select(\"div.quote\")\n",
    "    if not quotes:\n",
    "        print(\"✅ No more quotes found. Stopping.\")\n",
    "        break\n",
    "\n",
    "    for quote in quotes:\n",
    "        text = quote.select_one(\"span.text\").text.strip()\n",
    "        author = quote.select_one(\"small.author\").text.strip()\n",
    "        print(f\"📝 {text} — {author}\")\n",
    "\n",
    "    # Add a polite random delay between 3.5 to 5.0 seconds\n",
    "    sleep_time = round(random.uniform(3.5, 5.0), 2)\n",
    "    print(f\"⏳ Sleeping for {sleep_time} seconds...\\n\")\n",
    "    time.sleep(sleep_time)\n",
    "\n",
    "    # Move to the next page\n",
    "    page += 1"
   ]
  },
  {
   "cell_type": "markdown",
   "id": "628ed884",
   "metadata": {},
   "source": [
    "### Explanation of Key Elements\n",
    "\n",
    "| Concept                    | Purpose                                |\n",
    "| -------------------------- | -------------------------------------- |\n",
    "| `headers['User-Agent']`    | Pretend you're a normal browser        |\n",
    "| `random.uniform(1.5, 3.0)` | Adds randomness to delay               |\n",
    "| `time.sleep()`             | Slows down scraping to avoid detection |\n",
    "| `print(...)`               | Good for debugging and pacing          |\n"
   ]
  },
  {
   "cell_type": "markdown",
   "id": "ff4ee07f",
   "metadata": {},
   "source": [
    "## What Is an HTTP Header?\n",
    "\n",
    "When your browser or script sends a request to a website (like GET /page), it includes HTTP headers, little pieces of metadata that describe:\n",
    "\n",
    "- Who’s making the request\n",
    "\n",
    "- What kind of content is accepted\n",
    "\n",
    "- What type of connection is used\n",
    "\n",
    "- Whether it's part of a session (cookies, tokens, etc.)\n",
    "\n",
    "Headers help the server understand who you are and how to respond."
   ]
  },
  {
   "cell_type": "markdown",
   "id": "c301cc8c",
   "metadata": {},
   "source": [
    "## What Is a User-Agent?\n",
    "\n",
    "One of the most important headers is:\n",
    "\n",
    "`User-Agent`:\n",
    "- It tells the server what browser or device is making the request.\n",
    "\n",
    "For example, here’s a User-Agent for Google Chrome on Windows 10:"
   ]
  },
  {
   "cell_type": "raw",
   "id": "3b36f6cd",
   "metadata": {
    "vscode": {
     "languageId": "raw"
    }
   },
   "source": [
    "Mozilla/5.0 (Windows NT 10.0; Win64; x64)\n",
    "AppleWebKit/537.36 (KHTML, like Gecko)\n",
    "Chrome/113.0.0.0 Safari/537.36"
   ]
  },
  {
   "cell_type": "markdown",
   "id": "343501d6",
   "metadata": {},
   "source": [
    "💡 Without this header, the server may assume you're a bot, API client, or script and block or restrict you."
   ]
  },
  {
   "cell_type": "markdown",
   "id": "1bf94bf9",
   "metadata": {},
   "source": [
    "## Other Useful Headers (Optional)\n",
    "\n",
    "| Header            | Purpose                                                           |\n",
    "| ----------------- | ----------------------------------------------------------------- |\n",
    "| `User-Agent`      | Fools the server into thinking you're a browser                   |\n",
    "| `Accept`          | What type of content you accept (`text/html`, `application/json`) |\n",
    "| `Referer`         | The page you \"came from\" — helps simulate real navigation         |\n",
    "| `Accept-Language` | Tells the site your preferred language                            |\n",
    "| `Connection`      | Whether to keep the connection alive                              |\n",
    "| `DNT`             | “Do Not Track” header (optional)                                  |\n",
    "| `Cache-Control`   | Can control or skip cached versions                               |\n"
   ]
  },
  {
   "cell_type": "markdown",
   "id": "dd1cc3c1",
   "metadata": {},
   "source": [
    "✅ Simulating a Real Browser\n",
    "\n",
    "To look more human, combine:"
   ]
  },
  {
   "cell_type": "code",
   "execution_count": null,
   "id": "086eff07",
   "metadata": {},
   "outputs": [],
   "source": [
    "headers = {\n",
    "    \"User-Agent\": \"...\",                  # Real browser UA string\n",
    "    \"Accept-Language\": \"en-US,en;q=0.9\",  # Common browser language\n",
    "    \"Accept\": \"text/html,application/xhtml+xml\",\n",
    "    \"Referer\": \"https://google.com\",      # Pretend we came from Google\n",
    "    \"DNT\": \"1\",                           # Respect \"Do Not Track\"\n",
    "    \"Connection\": \"keep-alive\"\n",
    "}"
   ]
  },
  {
   "cell_type": "markdown",
   "id": "bf257d28",
   "metadata": {},
   "source": [
    "## Extra Techniques to Avoid Detection\n",
    "\n",
    "| Technique                           | Description                                       |\n",
    "| ----------------------------------- | ------------------------------------------------- |\n",
    "| `time.sleep()` + `random.uniform()` | Add human-like delay between requests             |\n",
    "| Use sessions (`requests.Session()`) | Simulate browser sessions and reuse cookies       |\n",
    "| Rotate headers                      | Use different User-Agents for each request        |\n",
    "| Rotate IPs                          | Use proxy rotation or Tor (advanced topics)       |\n",
    "| Avoid patterns                      | Don't always scrape at same time, order, or speed |\n"
   ]
  },
  {
   "cell_type": "markdown",
   "id": "374262b7",
   "metadata": {},
   "source": [
    "## 💡 Pro Tip: Use a Header Generator\n",
    "\n",
    "You can find real User-Agents here:\n",
    "\n",
    "- https://www.whatismybrowser.com/guides/the-latest-user-agent/\n",
    "\n",
    "Use one for:\n",
    "\n",
    "- Chrome\n",
    "- Firefox\n",
    "- Mobile Safari\n",
    "- Edge\n",
    "\n",
    "Rotate them every few requests if needed."
   ]
  },
  {
   "cell_type": "markdown",
   "id": "d5334844",
   "metadata": {},
   "source": [
    "## Practice Tasks\n",
    "\n",
    "1. Replace the `tag = \"life\"` with user input like:\n",
    "\n",
    "```python\n",
    "tag = input(\"Enter a tag to scrape: \").strip().lower()\n",
    "```\n",
    "\n",
    "2. Try increasing the sleep delay to between 2 and 5 seconds.\n",
    "\n",
    "3. Modify the code to scrape from a static list of URLs instead of pagination."
   ]
  },
  {
   "cell_type": "markdown",
   "id": "f97d738e",
   "metadata": {},
   "source": [
    "💡 Remember: Being polite protects you from being blocked and helps keep scraping sustainable and ethical."
   ]
  },
  {
   "cell_type": "markdown",
   "id": "7a3e8edc",
   "metadata": {},
   "source": [
    "## 🔜 Next up: Lesson  13 – Saving Data to CSV, JSON, or SQLite\n",
    "\n",
    "You’ll learn how to store scraped data for future use: clean, structured, and ready for analysis."
   ]
  }
 ],
 "metadata": {
  "kernelspec": {
   "display_name": "venv",
   "language": "python",
   "name": "python3"
  },
  "language_info": {
   "codemirror_mode": {
    "name": "ipython",
    "version": 3
   },
   "file_extension": ".py",
   "mimetype": "text/x-python",
   "name": "python",
   "nbconvert_exporter": "python",
   "pygments_lexer": "ipython3",
   "version": "3.10.10"
  }
 },
 "nbformat": 4,
 "nbformat_minor": 5
}

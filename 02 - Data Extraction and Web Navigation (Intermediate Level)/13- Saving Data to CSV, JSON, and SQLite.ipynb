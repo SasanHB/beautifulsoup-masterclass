{
 "cells": [
  {
   "cell_type": "markdown",
   "id": "40e8d05e",
   "metadata": {},
   "source": [
    "# 🎓 Lesson 13: Saving Data to CSV, JSON, and SQLite\n",
    "\n",
    "🎯 Goal\n",
    "\n",
    "In this lesson, you’ll learn how to:\n",
    "\n",
    "1. Store scraped data in structured formats\n",
    "\n",
    "2. Save to `.csv` (for Excel or data analysis)\n",
    "\n",
    "3. Save to `.json` (for APIs, web apps)\n",
    "\n",
    "4. Store in SQLite database (for persistence and querying)"
   ]
  },
  {
   "cell_type": "markdown",
   "id": "95205af8",
   "metadata": {},
   "source": [
    "## 💻 Practice Site:\n",
    "\n",
    "We’ll continue using 📍 https://quotes.toscrape.com/tag/life/\n",
    "\n",
    "Let’s extract all quotes and save them in multiple formats."
   ]
  },
  {
   "cell_type": "markdown",
   "id": "5084ecc5",
   "metadata": {},
   "source": [
    "## ✅ Step 1: Store Quotes in a List of Dictionaries"
   ]
  },
  {
   "cell_type": "code",
   "execution_count": null,
   "id": "9b5d4510",
   "metadata": {},
   "outputs": [],
   "source": [
    "import requests\n",
    "from bs4 import BeautifulSoup\n",
    "import csv\n",
    "import json\n",
    "import sqlite3\n",
    "\n",
    "# List to store quote records\n",
    "quote_data = []\n",
    "\n",
    "# Scrape one page (or loop as needed)\n",
    "url = \"https://quotes.toscrape.com/tag/life/\"\n",
    "response = requests.get(url)\n",
    "soup = BeautifulSoup(response.text, \"lxml\")\n",
    "\n",
    "quotes = soup.select(\"div.quote\")\n",
    "\n",
    "for quote in quotes:\n",
    "    text = quote.select_one(\"span.text\").text.strip()\n",
    "    author = quote.select_one(\"small.author\").text.strip()\n",
    "    \n",
    "    # 💾 Append as a dictionary\n",
    "    quote_data.append({\n",
    "        \"text\": text,\n",
    "        \"author\": author\n",
    "    })\n",
    "\n",
    "print(f\"✅ Collected {len(quote_data)} quotes.\")"
   ]
  },
  {
   "cell_type": "markdown",
   "id": "b5e6cb58",
   "metadata": {},
   "source": [
    "## ✅ Step 2: Save to CSV"
   ]
  },
  {
   "cell_type": "code",
   "execution_count": null,
   "id": "66d4e4d5",
   "metadata": {},
   "outputs": [],
   "source": [
    "# 💾 Save to CSV file\n",
    "with open(\"quotes.csv\", mode=\"w\", encoding=\"utf-8\", newline=\"\") as file:\n",
    "    writer = csv.DictWriter(file, fieldnames=[\"text\", \"author\"])\n",
    "    writer.writeheader()\n",
    "    writer.writerows(quote_data)\n",
    "\n",
    "print(\"📄 Saved to quotes.csv\")"
   ]
  },
  {
   "cell_type": "markdown",
   "id": "fce35bd4",
   "metadata": {},
   "source": [
    "## ✅ Step 3: Save to JSON"
   ]
  },
  {
   "cell_type": "code",
   "execution_count": null,
   "id": "871eac07",
   "metadata": {},
   "outputs": [],
   "source": [
    "# 💾 Save to JSON file\n",
    "with open(\"quotes.json\", mode=\"w\", encoding=\"utf-8\") as file:\n",
    "    json.dump(quote_data, file, indent=4, ensure_ascii=False)\n",
    "\n",
    "print(\"📄 Saved to quotes.json\")"
   ]
  },
  {
   "cell_type": "markdown",
   "id": "0cf51fb6",
   "metadata": {},
   "source": [
    "# ✅ Step 4: Save to SQLite Database"
   ]
  },
  {
   "cell_type": "code",
   "execution_count": null,
   "id": "a640111d",
   "metadata": {},
   "outputs": [],
   "source": [
    "# 🗃️ Connect to SQLite database (creates file if not exists)\n",
    "conn = sqlite3.connect(\"quotes.db\")\n",
    "cursor = conn.cursor()\n",
    "\n",
    "# 🛠️ Create table\n",
    "cursor.execute(\"\"\"\n",
    "    CREATE TABLE IF NOT EXISTS quotes (\n",
    "        id INTEGER PRIMARY KEY AUTOINCREMENT,\n",
    "        text TEXT,\n",
    "        author TEXT\n",
    "    )\n",
    "\"\"\")\n",
    "\n",
    "# ➕ Insert quotes\n",
    "for q in quote_data:\n",
    "    cursor.execute(\"INSERT INTO quotes (text, author) VALUES (?, ?)\", (q[\"text\"], q[\"author\"]))\n",
    "\n",
    "# ✅ Commit and close\n",
    "conn.commit()\n",
    "conn.close()\n",
    "\n",
    "print(\"📄 Saved to quotes.db (SQLite)\")"
   ]
  },
  {
   "cell_type": "markdown",
   "id": "6967c586",
   "metadata": {},
   "source": [
    "## 💡 When to Use What?\n",
    "\n",
    "| Format     | Use Case                             |\n",
    "| ---------- | ------------------------------------ |\n",
    "| **CSV**    | Excel, Pandas, spreadsheets          |\n",
    "| **JSON**   | Web APIs, JavaScript, nested data    |\n",
    "| **SQLite** | Searchable, structured local storage |\n",
    "\n"
   ]
  },
  {
   "cell_type": "markdown",
   "id": "9c44ad54",
   "metadata": {},
   "source": [
    "## Practice Tasks\n",
    "\n",
    "1. Scrape 2 or 3 pages and append all results into one list before saving.\n",
    "\n",
    "2. Add a tag field (e.g., `\"life\"`) to each record.\n",
    "\n",
    "3. Try loading back the saved `.csv` or `.json` to display in Python."
   ]
  },
  {
   "cell_type": "markdown",
   "id": "8b477c91",
   "metadata": {},
   "source": [
    "## 🔜 Next up: Lesson  14 – Using `requests.Session()` & Cookies\n",
    "\n",
    "You’ll learn how to stay logged in and maintain state across requests (needed for logins and dashboards)."
   ]
  }
 ],
 "metadata": {
  "kernelspec": {
   "display_name": "venv",
   "language": "python",
   "name": "python3"
  },
  "language_info": {
   "codemirror_mode": {
    "name": "ipython",
    "version": 3
   },
   "file_extension": ".py",
   "mimetype": "text/x-python",
   "name": "python",
   "nbconvert_exporter": "python",
   "pygments_lexer": "ipython3",
   "version": "3.10.10"
  }
 },
 "nbformat": 4,
 "nbformat_minor": 5
}
